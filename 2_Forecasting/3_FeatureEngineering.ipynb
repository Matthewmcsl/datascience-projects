{
 "cells": [
  {
   "cell_type": "markdown",
   "id": "0b1a327b-feeb-4495-a47f-1e2d7bd436ff",
   "metadata": {},
   "source": [
    "## Hotel Demand Forecasting - Data Preparation"
   ]
  },
  {
   "cell_type": "markdown",
   "id": "94810342-8c42-421e-b210-fd1ba9237268",
   "metadata": {},
   "source": [
    "### 1. Importing Libraries"
   ]
  },
  {
   "cell_type": "code",
   "execution_count": 1,
   "id": "51cf7545-3f36-41ff-b034-245a10ea653d",
   "metadata": {},
   "outputs": [],
   "source": [
    "import pandas as pd\n",
    "import numpy as np"
   ]
  },
  {
   "cell_type": "markdown",
   "id": "2a2153d0-590a-41d5-ba4f-500f5c028e54",
   "metadata": {},
   "source": [
    "### 1.1 Reading in datasets "
   ]
  },
  {
   "cell_type": "code",
   "execution_count": 2,
   "id": "830e4bcb-a7b2-476d-8f4a-f68edd97b635",
   "metadata": {},
   "outputs": [],
   "source": [
    "resort = pd.read_csv('H1_cleaned.csv')\n",
    "hotel = pd.read_csv('H2_cleaned.csv')"
   ]
  },
  {
   "cell_type": "markdown",
   "id": "03f67520-a7db-441d-8dd3-f96217e5f472",
   "metadata": {},
   "source": [
    "## 2. Feature Engineering"
   ]
  },
  {
   "cell_type": "markdown",
   "id": "d5b80fa8-fc25-43b9-82fa-da16cac3b47e",
   "metadata": {},
   "source": [
    "### 2.1. Company variable - Assigning 'Null' as 1, Non-null as 0"
   ]
  },
  {
   "cell_type": "code",
   "execution_count": 3,
   "id": "f82d5df6-bce4-47da-9e13-b4c2ab9496d4",
   "metadata": {},
   "outputs": [],
   "source": [
    "# resort.assign(hasCompany= np.where(resort.Company.isnull(), 0, 1))\n",
    "\n",
    "resort.Company = pd.to_numeric(resort.Company, errors='coerce')\n",
    "resort['hasCompany'] = np.where(resort.Company.isnull(), 0, 1)\n",
    "\n",
    "hotel.Company = pd.to_numeric(hotel.Company, errors='coerce')\n",
    "hotel = hotel.assign(hasCompany= np.where(hotel.Company.isnull(), 0, 1))"
   ]
  },
  {
   "cell_type": "markdown",
   "id": "a4cfc781-ae25-4f11-abfa-b270dd364d18",
   "metadata": {},
   "source": [
    "### 2.2. Agent variable - Assigning 'Null' as 1, Non-null as 0"
   ]
  },
  {
   "cell_type": "code",
   "execution_count": 4,
   "id": "d5be4f32-248a-4b31-8079-30835cbf724c",
   "metadata": {},
   "outputs": [],
   "source": [
    "resort['Agent'] = pd.to_numeric(resort.Agent, errors='coerce')\n",
    "resort['hasAgent'] = np.where(resort.Agent.isnull(), 0, 1)\n",
    "\n",
    "hotel['Agent'] = pd.to_numeric(hotel.Agent, errors='coerce')\n",
    "hotel['hasAgent'] = np.where(hotel.Agent.isnull(), 0, 1)"
   ]
  },
  {
   "cell_type": "markdown",
   "id": "f0ce8385-a205-428b-8963-ac9cb7dd0c5d",
   "metadata": {},
   "source": [
    "### 2.3. Country variable - Assigning PRT (portugal) as 1, Non-PRT countries as 0\n",
    "\n",
    "Given that Portugal is where the resort and hotel is situated at (and also formed the largest portion where bookings originated from), a separate column is created to create the distiction between a domestic and foreign booking."
   ]
  },
  {
   "cell_type": "code",
   "execution_count": 5,
   "id": "ecd0165a-9b53-4bd1-bc76-70b71f6fa336",
   "metadata": {},
   "outputs": [],
   "source": [
    "resort['isPRT'] = np.where(resort['Country'] == 'PRT', 1, 0)\n",
    "hotel['isPRT'] = np.where(hotel['Country'] == 'PRT', 1, 0)"
   ]
  },
  {
   "cell_type": "markdown",
   "id": "f3669e45-ae93-4cac-93f2-06851fdd270d",
   "metadata": {},
   "source": [
    "### 2.4. Dropping Unnecessary Features/Variables\n",
    "\n",
    "- ArrivalDateYear - To be excluded given that it is not cyclical, even in the assumption of a yearly increase, there is insufficient data points for year to make an informed decision\n",
    "- ArrivalDateDayOfMonth - Insufficient data points as well\n",
    "- ReservationStatus - Strongly correlated with the dependent variable (IsCancelled) - Since IsCanceled (cancelled booking) will just be represented as 'Canceled' in the reservation status which provides no value."
   ]
  },
  {
   "cell_type": "code",
   "execution_count": 6,
   "id": "9ee85d75-19bf-46dd-8507-c2fc234ec2b1",
   "metadata": {},
   "outputs": [],
   "source": [
    "resort_cleaned = resort.drop(columns={'ArrivalDateYear',\n",
    "                                      'ArrivalDateDayOfMonth',\n",
    "                                      'ReservationStatus',\n",
    "                                      'ReservationStatusDate',\n",
    "                                      'Agent', 'Company', 'Country'})\n",
    "\n",
    "hotel_cleaned = hotel.drop(columns={'ArrivalDateYear',\n",
    "                                    'ArrivalDateDayOfMonth',\n",
    "                                    'ReservationStatus',\n",
    "                                    'ReservationStatusDate',\n",
    "                                    'Agent', 'Company', 'Country'})"
   ]
  },
  {
   "cell_type": "code",
   "execution_count": 98,
   "id": "4dcd69d7-6ddc-427d-85d7-a9c4aad0fe24",
   "metadata": {},
   "outputs": [
    {
     "data": {
      "text/plain": [
       "Index(['IsCanceled', 'LeadTime', 'ArrivalDateYear', 'ArrivalDateMonth',\n",
       "       'ArrivalDateWeekNumber', 'ArrivalDateDayOfMonth',\n",
       "       'StaysInWeekendNights', 'StaysInWeekNights', 'Adults', 'Children',\n",
       "       'Babies', 'Meal', 'Country', 'MarketSegment', 'DistributionChannel',\n",
       "       'IsRepeatedGuest', 'PreviousCancellations',\n",
       "       'PreviousBookingsNotCanceled', 'ReservedRoomType', 'AssignedRoomType',\n",
       "       'BookingChanges', 'DepositType', 'Agent', 'Company',\n",
       "       'DaysInWaitingList', 'CustomerType', 'ADR', 'RequiredCarParkingSpaces',\n",
       "       'TotalOfSpecialRequests', 'ReservationStatus', 'ReservationStatusDate',\n",
       "       'hasCompany', 'hasAgent', 'isPRT'],\n",
       "      dtype='object')"
      ]
     },
     "execution_count": 98,
     "metadata": {},
     "output_type": "execute_result"
    }
   ],
   "source": []
  },
  {
   "cell_type": "code",
   "execution_count": null,
   "id": "327b4fae-8f10-48ad-a78e-69957b76b0fc",
   "metadata": {},
   "outputs": [],
   "source": []
  }
 ],
 "metadata": {
  "kernelspec": {
   "display_name": "Python 3 (ipykernel)",
   "language": "python",
   "name": "python3"
  },
  "language_info": {
   "codemirror_mode": {
    "name": "ipython",
    "version": 3
   },
   "file_extension": ".py",
   "mimetype": "text/x-python",
   "name": "python",
   "nbconvert_exporter": "python",
   "pygments_lexer": "ipython3",
   "version": "3.8.5"
  }
 },
 "nbformat": 4,
 "nbformat_minor": 5
}
