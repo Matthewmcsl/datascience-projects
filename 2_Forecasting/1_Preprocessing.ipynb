{
 "cells": [
  {
   "cell_type": "markdown",
   "id": "1a10c5c8-905d-4e24-9059-4b9a15310417",
   "metadata": {},
   "source": [
    "## Hotel Demand Forecasting - preprocessing\n",
    "\n",
    "Given two hotels (H1) - a resort hotel and (H2) - a city hotel, pertaining to actual hotel bookings, this project tr\n",
    "\n",
    "[Article for context on hotel booking data](https://www.sciencedirect.com/science/article/pii/S2352340918315191)"
   ]
  },
  {
   "cell_type": "markdown",
   "id": "1d40adaa-9a8d-47b7-ac51-b92005bd89ee",
   "metadata": {},
   "source": [
    "### 1. Importing Necessary Libraries"
   ]
  },
  {
   "cell_type": "code",
   "execution_count": 91,
   "id": "89d6e6bb-3b9d-4a03-9b46-cf720b072254",
   "metadata": {},
   "outputs": [],
   "source": [
    "import pandas as pd\n",
    "import numpy as np"
   ]
  },
  {
   "cell_type": "code",
   "execution_count": 109,
   "id": "c00ce44a-b4b6-41ac-b5e6-63c74c003f8b",
   "metadata": {},
   "outputs": [],
   "source": [
    "resort_h1 = pd.read_csv('H1.csv')\n",
    "hotel_h2 = pd.read_csv('H2.csv')"
   ]
  },
  {
   "cell_type": "markdown",
   "id": "24451f1f-ef74-48cb-934c-42e88cb6f683",
   "metadata": {},
   "source": [
    "### 2. Data Exploration"
   ]
  },
  {
   "cell_type": "code",
   "execution_count": 111,
   "id": "244302d8-28e3-46e2-8f13-4b5386332d42",
   "metadata": {},
   "outputs": [
    {
     "data": {
      "text/html": [
       "<div>\n",
       "<style scoped>\n",
       "    .dataframe tbody tr th:only-of-type {\n",
       "        vertical-align: middle;\n",
       "    }\n",
       "\n",
       "    .dataframe tbody tr th {\n",
       "        vertical-align: top;\n",
       "    }\n",
       "\n",
       "    .dataframe thead th {\n",
       "        text-align: right;\n",
       "    }\n",
       "</style>\n",
       "<table border=\"1\" class=\"dataframe\">\n",
       "  <thead>\n",
       "    <tr style=\"text-align: right;\">\n",
       "      <th></th>\n",
       "      <th>IsCanceled</th>\n",
       "      <th>LeadTime</th>\n",
       "      <th>ArrivalDateYear</th>\n",
       "      <th>ArrivalDateMonth</th>\n",
       "      <th>ArrivalDateWeekNumber</th>\n",
       "      <th>ArrivalDateDayOfMonth</th>\n",
       "      <th>StaysInWeekendNights</th>\n",
       "      <th>StaysInWeekNights</th>\n",
       "      <th>Adults</th>\n",
       "      <th>Children</th>\n",
       "      <th>...</th>\n",
       "      <th>DepositType</th>\n",
       "      <th>Agent</th>\n",
       "      <th>Company</th>\n",
       "      <th>DaysInWaitingList</th>\n",
       "      <th>CustomerType</th>\n",
       "      <th>ADR</th>\n",
       "      <th>RequiredCarParkingSpaces</th>\n",
       "      <th>TotalOfSpecialRequests</th>\n",
       "      <th>ReservationStatus</th>\n",
       "      <th>ReservationStatusDate</th>\n",
       "    </tr>\n",
       "  </thead>\n",
       "  <tbody>\n",
       "    <tr>\n",
       "      <th>38599</th>\n",
       "      <td>0</td>\n",
       "      <td>207</td>\n",
       "      <td>2017</td>\n",
       "      <td>July</td>\n",
       "      <td>28</td>\n",
       "      <td>15</td>\n",
       "      <td>2</td>\n",
       "      <td>6</td>\n",
       "      <td>2</td>\n",
       "      <td>1</td>\n",
       "      <td>...</td>\n",
       "      <td>No Deposit</td>\n",
       "      <td>250</td>\n",
       "      <td>NULL</td>\n",
       "      <td>0</td>\n",
       "      <td>Transient</td>\n",
       "      <td>209.85</td>\n",
       "      <td>0</td>\n",
       "      <td>3</td>\n",
       "      <td>Check-Out</td>\n",
       "      <td>2017-07-23</td>\n",
       "    </tr>\n",
       "    <tr>\n",
       "      <th>27105</th>\n",
       "      <td>0</td>\n",
       "      <td>24</td>\n",
       "      <td>2016</td>\n",
       "      <td>August</td>\n",
       "      <td>34</td>\n",
       "      <td>17</td>\n",
       "      <td>0</td>\n",
       "      <td>3</td>\n",
       "      <td>2</td>\n",
       "      <td>0</td>\n",
       "      <td>...</td>\n",
       "      <td>No Deposit</td>\n",
       "      <td>250</td>\n",
       "      <td>NULL</td>\n",
       "      <td>0</td>\n",
       "      <td>Transient</td>\n",
       "      <td>200.10</td>\n",
       "      <td>0</td>\n",
       "      <td>2</td>\n",
       "      <td>Check-Out</td>\n",
       "      <td>2016-08-20</td>\n",
       "    </tr>\n",
       "    <tr>\n",
       "      <th>4171</th>\n",
       "      <td>0</td>\n",
       "      <td>117</td>\n",
       "      <td>2016</td>\n",
       "      <td>February</td>\n",
       "      <td>9</td>\n",
       "      <td>22</td>\n",
       "      <td>3</td>\n",
       "      <td>7</td>\n",
       "      <td>1</td>\n",
       "      <td>0</td>\n",
       "      <td>...</td>\n",
       "      <td>No Deposit</td>\n",
       "      <td>2</td>\n",
       "      <td>NULL</td>\n",
       "      <td>0</td>\n",
       "      <td>Contract</td>\n",
       "      <td>24.50</td>\n",
       "      <td>0</td>\n",
       "      <td>1</td>\n",
       "      <td>Check-Out</td>\n",
       "      <td>2016-03-03</td>\n",
       "    </tr>\n",
       "    <tr>\n",
       "      <th>29387</th>\n",
       "      <td>0</td>\n",
       "      <td>34</td>\n",
       "      <td>2016</td>\n",
       "      <td>October</td>\n",
       "      <td>44</td>\n",
       "      <td>27</td>\n",
       "      <td>0</td>\n",
       "      <td>0</td>\n",
       "      <td>2</td>\n",
       "      <td>0</td>\n",
       "      <td>...</td>\n",
       "      <td>No Deposit</td>\n",
       "      <td>6</td>\n",
       "      <td>NULL</td>\n",
       "      <td>0</td>\n",
       "      <td>Transient</td>\n",
       "      <td>0.00</td>\n",
       "      <td>0</td>\n",
       "      <td>0</td>\n",
       "      <td>Check-Out</td>\n",
       "      <td>2016-10-27</td>\n",
       "    </tr>\n",
       "    <tr>\n",
       "      <th>8596</th>\n",
       "      <td>1</td>\n",
       "      <td>383</td>\n",
       "      <td>2016</td>\n",
       "      <td>October</td>\n",
       "      <td>41</td>\n",
       "      <td>6</td>\n",
       "      <td>1</td>\n",
       "      <td>3</td>\n",
       "      <td>2</td>\n",
       "      <td>0</td>\n",
       "      <td>...</td>\n",
       "      <td>No Deposit</td>\n",
       "      <td>315</td>\n",
       "      <td>NULL</td>\n",
       "      <td>0</td>\n",
       "      <td>Transient-Party</td>\n",
       "      <td>48.00</td>\n",
       "      <td>0</td>\n",
       "      <td>0</td>\n",
       "      <td>Canceled</td>\n",
       "      <td>2016-03-04</td>\n",
       "    </tr>\n",
       "    <tr>\n",
       "      <th>37923</th>\n",
       "      <td>0</td>\n",
       "      <td>8</td>\n",
       "      <td>2017</td>\n",
       "      <td>June</td>\n",
       "      <td>26</td>\n",
       "      <td>27</td>\n",
       "      <td>1</td>\n",
       "      <td>5</td>\n",
       "      <td>2</td>\n",
       "      <td>0</td>\n",
       "      <td>...</td>\n",
       "      <td>No Deposit</td>\n",
       "      <td>240</td>\n",
       "      <td>NULL</td>\n",
       "      <td>0</td>\n",
       "      <td>Transient</td>\n",
       "      <td>146.67</td>\n",
       "      <td>0</td>\n",
       "      <td>1</td>\n",
       "      <td>Check-Out</td>\n",
       "      <td>2017-07-03</td>\n",
       "    </tr>\n",
       "    <tr>\n",
       "      <th>27559</th>\n",
       "      <td>0</td>\n",
       "      <td>219</td>\n",
       "      <td>2016</td>\n",
       "      <td>August</td>\n",
       "      <td>36</td>\n",
       "      <td>29</td>\n",
       "      <td>1</td>\n",
       "      <td>3</td>\n",
       "      <td>2</td>\n",
       "      <td>0</td>\n",
       "      <td>...</td>\n",
       "      <td>No Deposit</td>\n",
       "      <td>177</td>\n",
       "      <td>NULL</td>\n",
       "      <td>0</td>\n",
       "      <td>Transient</td>\n",
       "      <td>64.80</td>\n",
       "      <td>0</td>\n",
       "      <td>1</td>\n",
       "      <td>Check-Out</td>\n",
       "      <td>2016-09-02</td>\n",
       "    </tr>\n",
       "    <tr>\n",
       "      <th>7525</th>\n",
       "      <td>1</td>\n",
       "      <td>360</td>\n",
       "      <td>2016</td>\n",
       "      <td>August</td>\n",
       "      <td>33</td>\n",
       "      <td>13</td>\n",
       "      <td>2</td>\n",
       "      <td>2</td>\n",
       "      <td>2</td>\n",
       "      <td>0</td>\n",
       "      <td>...</td>\n",
       "      <td>No Deposit</td>\n",
       "      <td>240</td>\n",
       "      <td>NULL</td>\n",
       "      <td>0</td>\n",
       "      <td>Transient</td>\n",
       "      <td>113.40</td>\n",
       "      <td>0</td>\n",
       "      <td>2</td>\n",
       "      <td>Canceled</td>\n",
       "      <td>2015-08-31</td>\n",
       "    </tr>\n",
       "  </tbody>\n",
       "</table>\n",
       "<p>8 rows × 31 columns</p>\n",
       "</div>"
      ],
      "text/plain": [
       "       IsCanceled  LeadTime  ArrivalDateYear ArrivalDateMonth  \\\n",
       "38599           0       207             2017             July   \n",
       "27105           0        24             2016           August   \n",
       "4171            0       117             2016         February   \n",
       "29387           0        34             2016          October   \n",
       "8596            1       383             2016          October   \n",
       "37923           0         8             2017             June   \n",
       "27559           0       219             2016           August   \n",
       "7525            1       360             2016           August   \n",
       "\n",
       "       ArrivalDateWeekNumber  ArrivalDateDayOfMonth  StaysInWeekendNights  \\\n",
       "38599                     28                     15                     2   \n",
       "27105                     34                     17                     0   \n",
       "4171                       9                     22                     3   \n",
       "29387                     44                     27                     0   \n",
       "8596                      41                      6                     1   \n",
       "37923                     26                     27                     1   \n",
       "27559                     36                     29                     1   \n",
       "7525                      33                     13                     2   \n",
       "\n",
       "       StaysInWeekNights  Adults  Children  ...      DepositType        Agent  \\\n",
       "38599                  6       2         1  ...  No Deposit               250   \n",
       "27105                  3       2         0  ...  No Deposit               250   \n",
       "4171                   7       1         0  ...  No Deposit                 2   \n",
       "29387                  0       2         0  ...  No Deposit                 6   \n",
       "8596                   3       2         0  ...  No Deposit               315   \n",
       "37923                  5       2         0  ...  No Deposit               240   \n",
       "27559                  3       2         0  ...  No Deposit               177   \n",
       "7525                   2       2         0  ...  No Deposit               240   \n",
       "\n",
       "           Company DaysInWaitingList     CustomerType     ADR  \\\n",
       "38599         NULL                 0        Transient  209.85   \n",
       "27105         NULL                 0        Transient  200.10   \n",
       "4171          NULL                 0         Contract   24.50   \n",
       "29387         NULL                 0        Transient    0.00   \n",
       "8596          NULL                 0  Transient-Party   48.00   \n",
       "37923         NULL                 0        Transient  146.67   \n",
       "27559         NULL                 0        Transient   64.80   \n",
       "7525          NULL                 0        Transient  113.40   \n",
       "\n",
       "       RequiredCarParkingSpaces  TotalOfSpecialRequests ReservationStatus  \\\n",
       "38599                         0                       3         Check-Out   \n",
       "27105                         0                       2         Check-Out   \n",
       "4171                          0                       1         Check-Out   \n",
       "29387                         0                       0         Check-Out   \n",
       "8596                          0                       0          Canceled   \n",
       "37923                         0                       1         Check-Out   \n",
       "27559                         0                       1         Check-Out   \n",
       "7525                          0                       2          Canceled   \n",
       "\n",
       "      ReservationStatusDate  \n",
       "38599            2017-07-23  \n",
       "27105            2016-08-20  \n",
       "4171             2016-03-03  \n",
       "29387            2016-10-27  \n",
       "8596             2016-03-04  \n",
       "37923            2017-07-03  \n",
       "27559            2016-09-02  \n",
       "7525             2015-08-31  \n",
       "\n",
       "[8 rows x 31 columns]"
      ]
     },
     "execution_count": 111,
     "metadata": {},
     "output_type": "execute_result"
    }
   ],
   "source": [
    "resort_h1.sample(8)"
   ]
  },
  {
   "cell_type": "markdown",
   "id": "99f55c41-eba1-467b-92fe-ab3bea864f9a",
   "metadata": {},
   "source": [
    "### 2.1 Size and shape of the datasets"
   ]
  },
  {
   "cell_type": "code",
   "execution_count": 93,
   "id": "dfdd51d6-b006-4cda-9a35-f0063fafab0d",
   "metadata": {},
   "outputs": [
    {
     "data": {
      "text/plain": [
       "[(40060, 31), (79330, 31)]"
      ]
     },
     "execution_count": 93,
     "metadata": {},
     "output_type": "execute_result"
    }
   ],
   "source": [
    "data = [resort_h1, hotel_h2]\n",
    "\n",
    "[d.shape for d in data]"
   ]
  },
  {
   "cell_type": "markdown",
   "id": "875d4d89-cdc2-4d14-9775-ec91c2470423",
   "metadata": {},
   "source": [
    "**Resort (H1)**\n",
    "- 40,060 rows of booking data\n",
    "- 31 attributes/columns\n",
    "\n",
    "**Hotel (H2)**\n",
    "- 79,330 rows of booking data\n",
    "- 31 attributes/columns"
   ]
  },
  {
   "cell_type": "markdown",
   "id": "e04517e0-68b1-4258-9f2e-370df630532c",
   "metadata": {},
   "source": [
    "### 2.2 Information and datatypes of each attribute"
   ]
  },
  {
   "cell_type": "code",
   "execution_count": 95,
   "id": "7bcab6d4-ca8a-4bc2-8c39-ea45082a0526",
   "metadata": {
    "collapsed": true,
    "jupyter": {
     "outputs_hidden": true
    },
    "tags": []
   },
   "outputs": [
    {
     "name": "stdout",
     "output_type": "stream",
     "text": [
      "<class 'pandas.core.frame.DataFrame'>\n",
      "RangeIndex: 40060 entries, 0 to 40059\n",
      "Data columns (total 31 columns):\n",
      " #   Column                       Non-Null Count  Dtype  \n",
      "---  ------                       --------------  -----  \n",
      " 0   IsCanceled                   40060 non-null  int64  \n",
      " 1   LeadTime                     40060 non-null  int64  \n",
      " 2   ArrivalDateYear              40060 non-null  int64  \n",
      " 3   ArrivalDateMonth             40060 non-null  object \n",
      " 4   ArrivalDateWeekNumber        40060 non-null  int64  \n",
      " 5   ArrivalDateDayOfMonth        40060 non-null  int64  \n",
      " 6   StaysInWeekendNights         40060 non-null  int64  \n",
      " 7   StaysInWeekNights            40060 non-null  int64  \n",
      " 8   Adults                       40060 non-null  int64  \n",
      " 9   Children                     40060 non-null  int64  \n",
      " 10  Babies                       40060 non-null  int64  \n",
      " 11  Meal                         40060 non-null  object \n",
      " 12  Country                      39596 non-null  object \n",
      " 13  MarketSegment                40060 non-null  object \n",
      " 14  DistributionChannel          40060 non-null  object \n",
      " 15  IsRepeatedGuest              40060 non-null  int64  \n",
      " 16  PreviousCancellations        40060 non-null  int64  \n",
      " 17  PreviousBookingsNotCanceled  40060 non-null  int64  \n",
      " 18  ReservedRoomType             40060 non-null  object \n",
      " 19  AssignedRoomType             40060 non-null  object \n",
      " 20  BookingChanges               40060 non-null  int64  \n",
      " 21  DepositType                  40060 non-null  object \n",
      " 22  Agent                        40060 non-null  object \n",
      " 23  Company                      40060 non-null  object \n",
      " 24  DaysInWaitingList            40060 non-null  int64  \n",
      " 25  CustomerType                 40060 non-null  object \n",
      " 26  ADR                          40060 non-null  float64\n",
      " 27  RequiredCarParkingSpaces     40060 non-null  int64  \n",
      " 28  TotalOfSpecialRequests       40060 non-null  int64  \n",
      " 29  ReservationStatus            40060 non-null  object \n",
      " 30  ReservationStatusDate        40060 non-null  object \n",
      "dtypes: float64(1), int64(17), object(13)\n",
      "memory usage: 9.5+ MB\n",
      "<class 'pandas.core.frame.DataFrame'>\n",
      "RangeIndex: 79330 entries, 0 to 79329\n",
      "Data columns (total 31 columns):\n",
      " #   Column                       Non-Null Count  Dtype  \n",
      "---  ------                       --------------  -----  \n",
      " 0   IsCanceled                   79330 non-null  int64  \n",
      " 1   LeadTime                     79330 non-null  int64  \n",
      " 2   ArrivalDateYear              79330 non-null  int64  \n",
      " 3   ArrivalDateMonth             79330 non-null  object \n",
      " 4   ArrivalDateWeekNumber        79330 non-null  int64  \n",
      " 5   ArrivalDateDayOfMonth        79330 non-null  int64  \n",
      " 6   StaysInWeekendNights         79330 non-null  int64  \n",
      " 7   StaysInWeekNights            79330 non-null  int64  \n",
      " 8   Adults                       79330 non-null  int64  \n",
      " 9   Children                     79326 non-null  float64\n",
      " 10  Babies                       79330 non-null  int64  \n",
      " 11  Meal                         79330 non-null  object \n",
      " 12  Country                      79306 non-null  object \n",
      " 13  MarketSegment                79330 non-null  object \n",
      " 14  DistributionChannel          79330 non-null  object \n",
      " 15  IsRepeatedGuest              79330 non-null  int64  \n",
      " 16  PreviousCancellations        79330 non-null  int64  \n",
      " 17  PreviousBookingsNotCanceled  79330 non-null  int64  \n",
      " 18  ReservedRoomType             79330 non-null  object \n",
      " 19  AssignedRoomType             79330 non-null  object \n",
      " 20  BookingChanges               79330 non-null  int64  \n",
      " 21  DepositType                  79330 non-null  object \n",
      " 22  Agent                        79330 non-null  object \n",
      " 23  Company                      79330 non-null  object \n",
      " 24  DaysInWaitingList            79330 non-null  int64  \n",
      " 25  CustomerType                 79330 non-null  object \n",
      " 26  ADR                          79330 non-null  float64\n",
      " 27  RequiredCarParkingSpaces     79330 non-null  int64  \n",
      " 28  TotalOfSpecialRequests       79330 non-null  int64  \n",
      " 29  ReservationStatus            79330 non-null  object \n",
      " 30  ReservationStatusDate        79330 non-null  object \n",
      "dtypes: float64(2), int64(16), object(13)\n",
      "memory usage: 18.8+ MB\n"
     ]
    },
    {
     "data": {
      "text/plain": [
       "[None, None]"
      ]
     },
     "execution_count": 95,
     "metadata": {},
     "output_type": "execute_result"
    }
   ],
   "source": [
    "[d.info() for d in data]"
   ]
  },
  {
   "cell_type": "markdown",
   "id": "9444216f-369b-4d6f-859d-31f7b2ed4c52",
   "metadata": {},
   "source": [
    "### 2.3 Checking for missing data"
   ]
  },
  {
   "cell_type": "code",
   "execution_count": 94,
   "id": "bd4e6415-ff77-487d-a302-5895ab3fef71",
   "metadata": {},
   "outputs": [
    {
     "data": {
      "text/plain": [
       "[         Missing_NACount\n",
       " Country              464,\n",
       "           Missing_NACount\n",
       " Children                4\n",
       " Country                24]"
      ]
     },
     "execution_count": 94,
     "metadata": {},
     "output_type": "execute_result"
    }
   ],
   "source": [
    "def missing_func(df):\n",
    "    return (df\n",
    "            .isnull().sum().to_frame()\n",
    "            .rename(columns={0: 'Missing_NACount'})\n",
    "            .query('Missing_NACount > 0'))\n",
    "\n",
    "[missing_func(d) for d in data]"
   ]
  },
  {
   "cell_type": "markdown",
   "id": "a47aa0e6-31ea-463a-90e0-fe9318255b15",
   "metadata": {},
   "source": [
    "**Resort (H1)**\n",
    "- 464 rows of data without a 'Country' of origin declared in the booking\n",
    "\n",
    "**Hotel (H2)**\n",
    "- 24 rows of data without a 'Country' of origin declared in the booking\n",
    "- 4 rows of data without number of 'Children' declared in the booking"
   ]
  },
  {
   "cell_type": "markdown",
   "id": "30d7ffc3-9297-4fe7-ab84-230ae686d9fc",
   "metadata": {},
   "source": [
    "### 2.3.1 Handling missing data\n",
    "\n",
    "We will handle missing country rows by imputing the NA values with 'Unknown'. Assuming that customers who did not provide a value for No. of Children meant that they are not bringing along any children during the booking, we will replace NA values in the Children column with the value 0."
   ]
  },
  {
   "cell_type": "code",
   "execution_count": 77,
   "id": "adf64205-10b2-4f72-ac2f-6b03fb458fbe",
   "metadata": {},
   "outputs": [
    {
     "name": "stdout",
     "output_type": "stream",
     "text": [
      "NA/Missing Countries (Resort): 0\n",
      "NA/Missing Countries (Hotel): 0\n",
      "\n",
      "NA/Missing Children Count (Hotel): 0\n"
     ]
    }
   ],
   "source": [
    "# Handling missing country attribute\n",
    "for d in data:\n",
    "    d['Country'] = d['Country'].replace(np.nan, 'Unknown', regex=True)\n",
    "\n",
    "print('NA/Missing Countries (Resort):', resort_h1.Country.isna().sum())\n",
    "print('NA/Missing Countries (Hotel):', hotel_h2.Country.isna().sum())\n",
    "\n",
    "# Handling missing children attribute\n",
    "hotel_h2['Children'] = hotel_h2.Children.fillna(0)\n",
    "\n",
    "print('\\nNA/Missing Children Count (Hotel):', hotel_h2.Children.isna().sum())"
   ]
  },
  {
   "cell_type": "code",
   "execution_count": 85,
   "id": "dbd3fc5f-37a3-4630-ba4b-cab51a409396",
   "metadata": {},
   "outputs": [
    {
     "data": {
      "text/plain": [
       "[]"
      ]
     },
     "execution_count": 85,
     "metadata": {},
     "output_type": "execute_result"
    }
   ],
   "source": [
    "resort_set = set(resort_h1.columns)\n",
    "hotel_set = set(hotel_h2.columns)\n",
    "\n",
    "list(resort_set.difference(hotel_set))"
   ]
  },
  {
   "cell_type": "markdown",
   "id": "dbfa96eb-5170-4d32-b8ea-d426a0f08643",
   "metadata": {},
   "source": [
    "### 2.3.2 Handling whitespaces in the data\n",
    "\n",
    "Given that there are trailing whitespaces in some of the columns within the dataframe (observed by viewing inside the csvs), namely **Meal, ReservedRoomType, AssignedRoomType and DespositType**. We will further clean up the data by striping any whitespaces"
   ]
  },
  {
   "cell_type": "code",
   "execution_count": 104,
   "id": "4489c089-823e-4f50-ab45-4317285307fe",
   "metadata": {},
   "outputs": [],
   "source": [
    "# resort dataframe cleanup\n",
    "resort_h1.Meal = resort_h1.Meal.str.strip()\n",
    "resort_h1.ReservedRoomType = resort_h1.ReservedRoomType.str.strip()\n",
    "resort_h1.AssignedRoomType = resort_h1.AssignedRoomType.str.strip()\n",
    "resort_h1.DepositType = resort_h1.DepositType.str.strip()\n",
    "\n",
    "# city hotel dataframe cleanup\n",
    "hotel_h2['Meal'] = hotel_h2['Meal'].str.strip()\n",
    "hotel_h2['ReservedRoomType'] = hotel_h2['ReservedRoomType'].str.strip()\n",
    "hotel_h2['AssignedRoomType'] = hotel_h2['AssignedRoomType'].str.strip()\n",
    "hotel_h2['DepositType'] = hotel_h2['DepositType'].str.strip()"
   ]
  },
  {
   "cell_type": "code",
   "execution_count": 108,
   "id": "7fa08c34-ddcf-4ceb-8af8-54094736932b",
   "metadata": {},
   "outputs": [
    {
     "data": {
      "text/html": [
       "<div>\n",
       "<style scoped>\n",
       "    .dataframe tbody tr th:only-of-type {\n",
       "        vertical-align: middle;\n",
       "    }\n",
       "\n",
       "    .dataframe tbody tr th {\n",
       "        vertical-align: top;\n",
       "    }\n",
       "\n",
       "    .dataframe thead th {\n",
       "        text-align: right;\n",
       "    }\n",
       "</style>\n",
       "<table border=\"1\" class=\"dataframe\">\n",
       "  <thead>\n",
       "    <tr style=\"text-align: right;\">\n",
       "      <th></th>\n",
       "      <th>Meal</th>\n",
       "      <th>ReservedRoomType</th>\n",
       "      <th>AssignedRoomType</th>\n",
       "      <th>DepositType</th>\n",
       "    </tr>\n",
       "  </thead>\n",
       "  <tbody>\n",
       "    <tr>\n",
       "      <th>0</th>\n",
       "      <td>HB</td>\n",
       "      <td>A</td>\n",
       "      <td>A</td>\n",
       "      <td>No Deposit</td>\n",
       "    </tr>\n",
       "  </tbody>\n",
       "</table>\n",
       "</div>"
      ],
      "text/plain": [
       "  Meal ReservedRoomType AssignedRoomType DepositType\n",
       "0   HB                A                A  No Deposit"
      ]
     },
     "execution_count": 108,
     "metadata": {},
     "output_type": "execute_result"
    }
   ],
   "source": [
    "hotel_h2[['Meal', 'ReservedRoomType', 'AssignedRoomType', 'DepositType']].iloc[0:1, :]"
   ]
  },
  {
   "cell_type": "markdown",
   "id": "e5bbb00c-c0da-4084-989e-345ab21b4013",
   "metadata": {},
   "source": [
    "### 3. Exporting cleaned datasets"
   ]
  },
  {
   "cell_type": "code",
   "execution_count": 112,
   "id": "ba364833-bf2f-4ccb-a4a7-05d4995148b3",
   "metadata": {},
   "outputs": [],
   "source": [
    "resort_h1.to_csv('H1_cleaned.csv', index=False)\n",
    "hotel_h2.to_csv('H2_cleaned.csv', index=False)"
   ]
  }
 ],
 "metadata": {
  "kernelspec": {
   "display_name": "Python 3 (ipykernel)",
   "language": "python",
   "name": "python3"
  },
  "language_info": {
   "codemirror_mode": {
    "name": "ipython",
    "version": 3
   },
   "file_extension": ".py",
   "mimetype": "text/x-python",
   "name": "python",
   "nbconvert_exporter": "python",
   "pygments_lexer": "ipython3",
   "version": "3.8.5"
  }
 },
 "nbformat": 4,
 "nbformat_minor": 5
}
