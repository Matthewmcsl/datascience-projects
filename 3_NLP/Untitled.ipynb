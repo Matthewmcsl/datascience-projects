{
 "cells": [
  {
   "cell_type": "markdown",
   "id": "da0927b2-8ed1-4e85-9e73-ffbf0420f431",
   "metadata": {},
   "source": [
    "## Political Speech NLP\n",
    "\n",
    "Given that fmr. Presidents Barack Obama and Donald Trump has had plenty of speech over the course of their tenure. Apart from taking every speech at face value, it would be interesting to see if there was a possible method to quantify the differences between their speeches.\n",
    "\n",
    "As such, this project will attempt to utilize Natural Language Processing (NLP) techniques and text mining in an attempt to identify any difference between their speeches. \n",
    "\n",
    "State of the Union speeches between 2010 to 2020 will be used for the purposes of this project. They are speeches that presidents would give at the start of each calendar year to propose legislative agenda and national priorities. "
   ]
  },
  {
   "cell_type": "markdown",
   "id": "4713c467-c5c4-45c1-851d-e1d9db7787c8",
   "metadata": {},
   "source": [
    "### 1. Data Collection\n",
    "\n",
    "Given that the number of speeches were not overly plenty, google search for each year's State of the Union speech was done and extracted individually into a txt file. In total, there would be 10 speeches. "
   ]
  },
  {
   "cell_type": "markdown",
   "id": "9f3162b7-6779-4ade-b391-bf6c95a2f4fc",
   "metadata": {},
   "source": [
    "### 2. Importing Libraries"
   ]
  },
  {
   "cell_type": "code",
   "execution_count": 109,
   "id": "a2fb868b-78cc-4b59-9395-73ccfe287c28",
   "metadata": {},
   "outputs": [],
   "source": [
    "import pandas as pd\n",
    "import glob\n",
    "import matplotlib\n",
    "import matplotlib.pyplot as plt\n",
    "import seaborn as sns\n",
    "import spacy"
   ]
  },
  {
   "cell_type": "markdown",
   "id": "8adcca0c-556b-49f6-88eb-28c3611dd75f",
   "metadata": {},
   "source": [
    "First step would be to read the text files and subsequently organize them into a dataframe."
   ]
  },
  {
   "cell_type": "markdown",
   "id": "fad55af1-f401-429a-b19a-0a036d53b24a",
   "metadata": {},
   "source": [
    "### 3. Preprocessing"
   ]
  },
  {
   "cell_type": "code",
   "execution_count": 18,
   "id": "c77d5607-6572-4bb0-95e0-1fdf06f2f7e0",
   "metadata": {},
   "outputs": [],
   "source": [
    "# storing each speech with their respective details into a data frame\n",
    "\n",
    "speech, name, year, filename = [], [], [], []\n",
    "\n",
    "# appending each list\n",
    "for file in glob.glob('allspeeches/*.txt'): \n",
    "    filename.append(file[-13:]) # file name of each speech\n",
    "    name.append(file[12:17]) # speaker for each speech\n",
    "    year.append(file[17:21]) # year of each speech\n",
    "    with open(file, 'r') as f:\n",
    "        speech.append(f.read().strip()) # speech\n"
   ]
  },
  {
   "cell_type": "code",
   "execution_count": 34,
   "id": "5737d03a-551b-40ef-87ee-51caf6c587a2",
   "metadata": {},
   "outputs": [
    {
     "data": {
      "text/html": [
       "<div>\n",
       "<style scoped>\n",
       "    .dataframe tbody tr th:only-of-type {\n",
       "        vertical-align: middle;\n",
       "    }\n",
       "\n",
       "    .dataframe tbody tr th {\n",
       "        vertical-align: top;\n",
       "    }\n",
       "\n",
       "    .dataframe thead th {\n",
       "        text-align: right;\n",
       "    }\n",
       "</style>\n",
       "<table border=\"1\" class=\"dataframe\">\n",
       "  <thead>\n",
       "    <tr style=\"text-align: right;\">\n",
       "      <th></th>\n",
       "      <th>filename</th>\n",
       "      <th>name</th>\n",
       "      <th>year</th>\n",
       "      <th>speech</th>\n",
       "    </tr>\n",
       "  </thead>\n",
       "  <tbody>\n",
       "    <tr>\n",
       "      <th>0</th>\n",
       "      <td>obama2010.txt</td>\n",
       "      <td>obama</td>\n",
       "      <td>2010</td>\n",
       "      <td>Madam Speaker, Vice President Biden, members o...</td>\n",
       "    </tr>\n",
       "    <tr>\n",
       "      <th>1</th>\n",
       "      <td>obama2011.txt</td>\n",
       "      <td>obama</td>\n",
       "      <td>2011</td>\n",
       "      <td>Mr. Speaker, Mr. Vice President, members of Co...</td>\n",
       "    </tr>\n",
       "    <tr>\n",
       "      <th>2</th>\n",
       "      <td>obama2012.txt</td>\n",
       "      <td>obama</td>\n",
       "      <td>2012</td>\n",
       "      <td>Mr. Speaker, Mr. Vice President, members of Co...</td>\n",
       "    </tr>\n",
       "    <tr>\n",
       "      <th>3</th>\n",
       "      <td>obama2013.txt</td>\n",
       "      <td>obama</td>\n",
       "      <td>2013</td>\n",
       "      <td>Mr. Speaker, Mr. Vice President, members of Co...</td>\n",
       "    </tr>\n",
       "    <tr>\n",
       "      <th>4</th>\n",
       "      <td>obama2014.txt</td>\n",
       "      <td>obama</td>\n",
       "      <td>2014</td>\n",
       "      <td>Mr. Speaker, Mr. Vice President, Members of Co...</td>\n",
       "    </tr>\n",
       "    <tr>\n",
       "      <th>5</th>\n",
       "      <td>obama2015.txt</td>\n",
       "      <td>obama</td>\n",
       "      <td>2015</td>\n",
       "      <td>Mr. Speaker, Mr. Vice President, Members of Co...</td>\n",
       "    </tr>\n",
       "    <tr>\n",
       "      <th>6</th>\n",
       "      <td>obama2016.txt</td>\n",
       "      <td>obama</td>\n",
       "      <td>2016</td>\n",
       "      <td>Mr. Speaker, Mr. Vice President, Members of Co...</td>\n",
       "    </tr>\n",
       "    <tr>\n",
       "      <th>7</th>\n",
       "      <td>trump2018.txt</td>\n",
       "      <td>trump</td>\n",
       "      <td>2018</td>\n",
       "      <td>Mr. Speaker, Mr. Vice President, Members of Co...</td>\n",
       "    </tr>\n",
       "    <tr>\n",
       "      <th>8</th>\n",
       "      <td>trump2019.txt</td>\n",
       "      <td>trump</td>\n",
       "      <td>2019</td>\n",
       "      <td>Madam Speaker, Mr. Vice President, Members of ...</td>\n",
       "    </tr>\n",
       "    <tr>\n",
       "      <th>9</th>\n",
       "      <td>trump2020.txt</td>\n",
       "      <td>trump</td>\n",
       "      <td>2020</td>\n",
       "      <td>Thank you very much.  Thank you.  Thank you ve...</td>\n",
       "    </tr>\n",
       "  </tbody>\n",
       "</table>\n",
       "</div>"
      ],
      "text/plain": [
       "        filename   name  year  \\\n",
       "0  obama2010.txt  obama  2010   \n",
       "1  obama2011.txt  obama  2011   \n",
       "2  obama2012.txt  obama  2012   \n",
       "3  obama2013.txt  obama  2013   \n",
       "4  obama2014.txt  obama  2014   \n",
       "5  obama2015.txt  obama  2015   \n",
       "6  obama2016.txt  obama  2016   \n",
       "7  trump2018.txt  trump  2018   \n",
       "8  trump2019.txt  trump  2019   \n",
       "9  trump2020.txt  trump  2020   \n",
       "\n",
       "                                              speech  \n",
       "0  Madam Speaker, Vice President Biden, members o...  \n",
       "1  Mr. Speaker, Mr. Vice President, members of Co...  \n",
       "2  Mr. Speaker, Mr. Vice President, members of Co...  \n",
       "3  Mr. Speaker, Mr. Vice President, members of Co...  \n",
       "4  Mr. Speaker, Mr. Vice President, Members of Co...  \n",
       "5  Mr. Speaker, Mr. Vice President, Members of Co...  \n",
       "6  Mr. Speaker, Mr. Vice President, Members of Co...  \n",
       "7  Mr. Speaker, Mr. Vice President, Members of Co...  \n",
       "8  Madam Speaker, Mr. Vice President, Members of ...  \n",
       "9  Thank you very much.  Thank you.  Thank you ve...  "
      ]
     },
     "execution_count": 34,
     "metadata": {},
     "output_type": "execute_result"
    }
   ],
   "source": [
    "# storing each list as a dictionary \n",
    "speech_dict = {'filename': filename, 'name': name, 'year': year, 'speech': speech}\n",
    "\n",
    "# creating a dataframe from the dict\n",
    "speech_df = (\n",
    "    pd\n",
    "    .DataFrame(data=speech_dict)\n",
    "    .sort_values(by='year', ignore_index=True)\n",
    ")\n",
    "\n",
    "# exporting df into csv file\n",
    "speech_df.to_excel('speech.xlsx')\n",
    "\n",
    "speech_df"
   ]
  },
  {
   "cell_type": "markdown",
   "id": "8b65cb22-e148-429c-8fe7-2a7b3ff7fdba",
   "metadata": {},
   "source": [
    "### 4. Feature Engineering\n",
    "\n",
    "Next step involves obtaining an understanding of the data:\n",
    "1. Number of characters\n",
    "2. Number of sentences\n",
    "3. Average number of characters\n",
    "4. Readibility scores"
   ]
  },
  {
   "cell_type": "markdown",
   "id": "e09f48ca-992a-4f2d-9330-8566b3b038a7",
   "metadata": {},
   "source": [
    "#### 4.1. Length of strings in each speech"
   ]
  },
  {
   "cell_type": "code",
   "execution_count": 39,
   "id": "8b08011f-0708-4e4d-90c2-e39cc1dd1726",
   "metadata": {},
   "outputs": [
    {
     "data": {
      "text/html": [
       "<div>\n",
       "<style scoped>\n",
       "    .dataframe tbody tr th:only-of-type {\n",
       "        vertical-align: middle;\n",
       "    }\n",
       "\n",
       "    .dataframe tbody tr th {\n",
       "        vertical-align: top;\n",
       "    }\n",
       "\n",
       "    .dataframe thead th {\n",
       "        text-align: right;\n",
       "    }\n",
       "</style>\n",
       "<table border=\"1\" class=\"dataframe\">\n",
       "  <thead>\n",
       "    <tr style=\"text-align: right;\">\n",
       "      <th></th>\n",
       "      <th>filename</th>\n",
       "      <th>name</th>\n",
       "      <th>year</th>\n",
       "      <th>speech</th>\n",
       "      <th>len_speech</th>\n",
       "    </tr>\n",
       "  </thead>\n",
       "  <tbody>\n",
       "    <tr>\n",
       "      <th>0</th>\n",
       "      <td>obama2010.txt</td>\n",
       "      <td>obama</td>\n",
       "      <td>2010</td>\n",
       "      <td>Madam Speaker, Vice President Biden, members o...</td>\n",
       "      <td>43698</td>\n",
       "    </tr>\n",
       "    <tr>\n",
       "      <th>1</th>\n",
       "      <td>obama2011.txt</td>\n",
       "      <td>obama</td>\n",
       "      <td>2011</td>\n",
       "      <td>Mr. Speaker, Mr. Vice President, members of Co...</td>\n",
       "      <td>41023</td>\n",
       "    </tr>\n",
       "    <tr>\n",
       "      <th>2</th>\n",
       "      <td>obama2012.txt</td>\n",
       "      <td>obama</td>\n",
       "      <td>2012</td>\n",
       "      <td>Mr. Speaker, Mr. Vice President, members of Co...</td>\n",
       "      <td>42203</td>\n",
       "    </tr>\n",
       "    <tr>\n",
       "      <th>3</th>\n",
       "      <td>obama2013.txt</td>\n",
       "      <td>obama</td>\n",
       "      <td>2013</td>\n",
       "      <td>Mr. Speaker, Mr. Vice President, members of Co...</td>\n",
       "      <td>41201</td>\n",
       "    </tr>\n",
       "    <tr>\n",
       "      <th>4</th>\n",
       "      <td>obama2014.txt</td>\n",
       "      <td>obama</td>\n",
       "      <td>2014</td>\n",
       "      <td>Mr. Speaker, Mr. Vice President, Members of Co...</td>\n",
       "      <td>40009</td>\n",
       "    </tr>\n",
       "    <tr>\n",
       "      <th>5</th>\n",
       "      <td>obama2015.txt</td>\n",
       "      <td>obama</td>\n",
       "      <td>2015</td>\n",
       "      <td>Mr. Speaker, Mr. Vice President, Members of Co...</td>\n",
       "      <td>40268</td>\n",
       "    </tr>\n",
       "    <tr>\n",
       "      <th>6</th>\n",
       "      <td>obama2016.txt</td>\n",
       "      <td>obama</td>\n",
       "      <td>2016</td>\n",
       "      <td>Mr. Speaker, Mr. Vice President, Members of Co...</td>\n",
       "      <td>31167</td>\n",
       "    </tr>\n",
       "    <tr>\n",
       "      <th>7</th>\n",
       "      <td>trump2018.txt</td>\n",
       "      <td>trump</td>\n",
       "      <td>2018</td>\n",
       "      <td>Mr. Speaker, Mr. Vice President, Members of Co...</td>\n",
       "      <td>30457</td>\n",
       "    </tr>\n",
       "    <tr>\n",
       "      <th>8</th>\n",
       "      <td>trump2019.txt</td>\n",
       "      <td>trump</td>\n",
       "      <td>2019</td>\n",
       "      <td>Madam Speaker, Mr. Vice President, Members of ...</td>\n",
       "      <td>30945</td>\n",
       "    </tr>\n",
       "    <tr>\n",
       "      <th>9</th>\n",
       "      <td>trump2020.txt</td>\n",
       "      <td>trump</td>\n",
       "      <td>2020</td>\n",
       "      <td>Thank you very much.  Thank you.  Thank you ve...</td>\n",
       "      <td>39648</td>\n",
       "    </tr>\n",
       "  </tbody>\n",
       "</table>\n",
       "</div>"
      ],
      "text/plain": [
       "        filename   name  year  \\\n",
       "0  obama2010.txt  obama  2010   \n",
       "1  obama2011.txt  obama  2011   \n",
       "2  obama2012.txt  obama  2012   \n",
       "3  obama2013.txt  obama  2013   \n",
       "4  obama2014.txt  obama  2014   \n",
       "5  obama2015.txt  obama  2015   \n",
       "6  obama2016.txt  obama  2016   \n",
       "7  trump2018.txt  trump  2018   \n",
       "8  trump2019.txt  trump  2019   \n",
       "9  trump2020.txt  trump  2020   \n",
       "\n",
       "                                              speech  len_speech  \n",
       "0  Madam Speaker, Vice President Biden, members o...       43698  \n",
       "1  Mr. Speaker, Mr. Vice President, members of Co...       41023  \n",
       "2  Mr. Speaker, Mr. Vice President, members of Co...       42203  \n",
       "3  Mr. Speaker, Mr. Vice President, members of Co...       41201  \n",
       "4  Mr. Speaker, Mr. Vice President, Members of Co...       40009  \n",
       "5  Mr. Speaker, Mr. Vice President, Members of Co...       40268  \n",
       "6  Mr. Speaker, Mr. Vice President, Members of Co...       31167  \n",
       "7  Mr. Speaker, Mr. Vice President, Members of Co...       30457  \n",
       "8  Madam Speaker, Mr. Vice President, Members of ...       30945  \n",
       "9  Thank you very much.  Thank you.  Thank you ve...       39648  "
      ]
     },
     "execution_count": 39,
     "metadata": {},
     "output_type": "execute_result"
    }
   ],
   "source": [
    "speech_df = speech_df.assign(len_speech = lambda x : x.speech.str.len())\n",
    "\n",
    "speech_df"
   ]
  },
  {
   "cell_type": "markdown",
   "id": "836a9d79-1690-4730-b810-e65c5319be56",
   "metadata": {},
   "source": [
    "#### 4.2. Replacing punctuation marks (?, !) into \".\" for easier splits"
   ]
  },
  {
   "cell_type": "code",
   "execution_count": 49,
   "id": "ae931b59-aba7-4630-b3eb-28c492baf12e",
   "metadata": {},
   "outputs": [
    {
     "data": {
      "text/html": [
       "<div>\n",
       "<style scoped>\n",
       "    .dataframe tbody tr th:only-of-type {\n",
       "        vertical-align: middle;\n",
       "    }\n",
       "\n",
       "    .dataframe tbody tr th {\n",
       "        vertical-align: top;\n",
       "    }\n",
       "\n",
       "    .dataframe thead th {\n",
       "        text-align: right;\n",
       "    }\n",
       "</style>\n",
       "<table border=\"1\" class=\"dataframe\">\n",
       "  <thead>\n",
       "    <tr style=\"text-align: right;\">\n",
       "      <th></th>\n",
       "      <th>filename</th>\n",
       "      <th>name</th>\n",
       "      <th>year</th>\n",
       "      <th>speech</th>\n",
       "      <th>len_speech</th>\n",
       "    </tr>\n",
       "  </thead>\n",
       "  <tbody>\n",
       "    <tr>\n",
       "      <th>0</th>\n",
       "      <td>obama2010.txt</td>\n",
       "      <td>obama</td>\n",
       "      <td>2010</td>\n",
       "      <td>Madam Speaker, Vice President Biden, members o...</td>\n",
       "      <td>43698</td>\n",
       "    </tr>\n",
       "    <tr>\n",
       "      <th>1</th>\n",
       "      <td>obama2011.txt</td>\n",
       "      <td>obama</td>\n",
       "      <td>2011</td>\n",
       "      <td>Mr. Speaker, Mr. Vice President, members of Co...</td>\n",
       "      <td>41023</td>\n",
       "    </tr>\n",
       "    <tr>\n",
       "      <th>2</th>\n",
       "      <td>obama2012.txt</td>\n",
       "      <td>obama</td>\n",
       "      <td>2012</td>\n",
       "      <td>Mr. Speaker, Mr. Vice President, members of Co...</td>\n",
       "      <td>42203</td>\n",
       "    </tr>\n",
       "    <tr>\n",
       "      <th>3</th>\n",
       "      <td>obama2013.txt</td>\n",
       "      <td>obama</td>\n",
       "      <td>2013</td>\n",
       "      <td>Mr. Speaker, Mr. Vice President, members of Co...</td>\n",
       "      <td>41201</td>\n",
       "    </tr>\n",
       "    <tr>\n",
       "      <th>4</th>\n",
       "      <td>obama2014.txt</td>\n",
       "      <td>obama</td>\n",
       "      <td>2014</td>\n",
       "      <td>Mr. Speaker, Mr. Vice President, Members of Co...</td>\n",
       "      <td>40009</td>\n",
       "    </tr>\n",
       "    <tr>\n",
       "      <th>5</th>\n",
       "      <td>obama2015.txt</td>\n",
       "      <td>obama</td>\n",
       "      <td>2015</td>\n",
       "      <td>Mr. Speaker, Mr. Vice President, Members of Co...</td>\n",
       "      <td>40268</td>\n",
       "    </tr>\n",
       "    <tr>\n",
       "      <th>6</th>\n",
       "      <td>obama2016.txt</td>\n",
       "      <td>obama</td>\n",
       "      <td>2016</td>\n",
       "      <td>Mr. Speaker, Mr. Vice President, Members of Co...</td>\n",
       "      <td>31167</td>\n",
       "    </tr>\n",
       "    <tr>\n",
       "      <th>7</th>\n",
       "      <td>trump2018.txt</td>\n",
       "      <td>trump</td>\n",
       "      <td>2018</td>\n",
       "      <td>Mr. Speaker, Mr. Vice President, Members of Co...</td>\n",
       "      <td>30457</td>\n",
       "    </tr>\n",
       "    <tr>\n",
       "      <th>8</th>\n",
       "      <td>trump2019.txt</td>\n",
       "      <td>trump</td>\n",
       "      <td>2019</td>\n",
       "      <td>Madam Speaker, Mr. Vice President, Members of ...</td>\n",
       "      <td>30945</td>\n",
       "    </tr>\n",
       "    <tr>\n",
       "      <th>9</th>\n",
       "      <td>trump2020.txt</td>\n",
       "      <td>trump</td>\n",
       "      <td>2020</td>\n",
       "      <td>Thank you very much.  Thank you.  Thank you ve...</td>\n",
       "      <td>39648</td>\n",
       "    </tr>\n",
       "  </tbody>\n",
       "</table>\n",
       "</div>"
      ],
      "text/plain": [
       "        filename   name  year  \\\n",
       "0  obama2010.txt  obama  2010   \n",
       "1  obama2011.txt  obama  2011   \n",
       "2  obama2012.txt  obama  2012   \n",
       "3  obama2013.txt  obama  2013   \n",
       "4  obama2014.txt  obama  2014   \n",
       "5  obama2015.txt  obama  2015   \n",
       "6  obama2016.txt  obama  2016   \n",
       "7  trump2018.txt  trump  2018   \n",
       "8  trump2019.txt  trump  2019   \n",
       "9  trump2020.txt  trump  2020   \n",
       "\n",
       "                                              speech  len_speech  \n",
       "0  Madam Speaker, Vice President Biden, members o...       43698  \n",
       "1  Mr. Speaker, Mr. Vice President, members of Co...       41023  \n",
       "2  Mr. Speaker, Mr. Vice President, members of Co...       42203  \n",
       "3  Mr. Speaker, Mr. Vice President, members of Co...       41201  \n",
       "4  Mr. Speaker, Mr. Vice President, Members of Co...       40009  \n",
       "5  Mr. Speaker, Mr. Vice President, Members of Co...       40268  \n",
       "6  Mr. Speaker, Mr. Vice President, Members of Co...       31167  \n",
       "7  Mr. Speaker, Mr. Vice President, Members of Co...       30457  \n",
       "8  Madam Speaker, Mr. Vice President, Members of ...       30945  \n",
       "9  Thank you very much.  Thank you.  Thank you ve...       39648  "
      ]
     },
     "execution_count": 49,
     "metadata": {},
     "output_type": "execute_result"
    }
   ],
   "source": [
    "speech_df['speech'] = speech_df['speech'].str.replace('[!\\?]', '.', regex=True)\n",
    "\n",
    "speech_df"
   ]
  },
  {
   "cell_type": "markdown",
   "id": "92e56890-dcbb-4bb7-a537-ed774f03bb2b",
   "metadata": {},
   "source": [
    "After replacing punctuations in the speech, we can double check to make sure they have all been replaced. The .find() function returns -1 if none of the following string is found. "
   ]
  },
  {
   "cell_type": "code",
   "execution_count": 47,
   "id": "3ebe0dba-37fd-4db3-a013-4b2f7802ad74",
   "metadata": {},
   "outputs": [
    {
     "data": {
      "text/plain": [
       "0   -1\n",
       "1   -1\n",
       "2   -1\n",
       "3   -1\n",
       "4   -1\n",
       "5   -1\n",
       "6   -1\n",
       "7   -1\n",
       "8   -1\n",
       "9   -1\n",
       "Name: speech, dtype: int64"
      ]
     },
     "execution_count": 47,
     "metadata": {},
     "output_type": "execute_result"
    }
   ],
   "source": [
    "speech_df['speech'].str.find('[!\\?]')"
   ]
  },
  {
   "cell_type": "markdown",
   "id": "be6a0ab5-a845-477d-b538-a867d51cad44",
   "metadata": {},
   "source": [
    "#### 4.3. Getting speech characteristics"
   ]
  },
  {
   "cell_type": "code",
   "execution_count": 57,
   "id": "fdbe6e4b-ebd3-4b4e-855c-a7cc0b5caf70",
   "metadata": {},
   "outputs": [
    {
     "data": {
      "text/html": [
       "<div>\n",
       "<style scoped>\n",
       "    .dataframe tbody tr th:only-of-type {\n",
       "        vertical-align: middle;\n",
       "    }\n",
       "\n",
       "    .dataframe tbody tr th {\n",
       "        vertical-align: top;\n",
       "    }\n",
       "\n",
       "    .dataframe thead th {\n",
       "        text-align: right;\n",
       "    }\n",
       "</style>\n",
       "<table border=\"1\" class=\"dataframe\">\n",
       "  <thead>\n",
       "    <tr style=\"text-align: right;\">\n",
       "      <th></th>\n",
       "      <th>filename</th>\n",
       "      <th>name</th>\n",
       "      <th>year</th>\n",
       "      <th>speech</th>\n",
       "      <th>len_speech</th>\n",
       "      <th>sentences</th>\n",
       "      <th>num_sentences</th>\n",
       "      <th>avg_sen_length</th>\n",
       "    </tr>\n",
       "  </thead>\n",
       "  <tbody>\n",
       "    <tr>\n",
       "      <th>0</th>\n",
       "      <td>obama2010.txt</td>\n",
       "      <td>obama</td>\n",
       "      <td>2010</td>\n",
       "      <td>Madam Speaker, Vice President Biden, members o...</td>\n",
       "      <td>43698</td>\n",
       "      <td>[Madam Speaker, Vice President Biden, members ...</td>\n",
       "      <td>562</td>\n",
       "      <td>77.754448</td>\n",
       "    </tr>\n",
       "    <tr>\n",
       "      <th>1</th>\n",
       "      <td>obama2011.txt</td>\n",
       "      <td>obama</td>\n",
       "      <td>2011</td>\n",
       "      <td>Mr. Speaker, Mr. Vice President, members of Co...</td>\n",
       "      <td>41023</td>\n",
       "      <td>[Mr,  Speaker, Mr,  Vice President, members of...</td>\n",
       "      <td>500</td>\n",
       "      <td>82.046000</td>\n",
       "    </tr>\n",
       "    <tr>\n",
       "      <th>2</th>\n",
       "      <td>obama2012.txt</td>\n",
       "      <td>obama</td>\n",
       "      <td>2012</td>\n",
       "      <td>Mr. Speaker, Mr. Vice President, members of Co...</td>\n",
       "      <td>42203</td>\n",
       "      <td>[Mr,  Speaker, Mr,  Vice President, members of...</td>\n",
       "      <td>518</td>\n",
       "      <td>81.472973</td>\n",
       "    </tr>\n",
       "    <tr>\n",
       "      <th>3</th>\n",
       "      <td>obama2013.txt</td>\n",
       "      <td>obama</td>\n",
       "      <td>2013</td>\n",
       "      <td>Mr. Speaker, Mr. Vice President, members of Co...</td>\n",
       "      <td>41201</td>\n",
       "      <td>[Mr,  Speaker, Mr,  Vice President, members of...</td>\n",
       "      <td>455</td>\n",
       "      <td>90.551648</td>\n",
       "    </tr>\n",
       "    <tr>\n",
       "      <th>4</th>\n",
       "      <td>obama2014.txt</td>\n",
       "      <td>obama</td>\n",
       "      <td>2014</td>\n",
       "      <td>Mr. Speaker, Mr. Vice President, Members of Co...</td>\n",
       "      <td>40009</td>\n",
       "      <td>[Mr,  Speaker, Mr,  Vice President, Members of...</td>\n",
       "      <td>351</td>\n",
       "      <td>113.985755</td>\n",
       "    </tr>\n",
       "    <tr>\n",
       "      <th>5</th>\n",
       "      <td>obama2015.txt</td>\n",
       "      <td>obama</td>\n",
       "      <td>2015</td>\n",
       "      <td>Mr. Speaker, Mr. Vice President, Members of Co...</td>\n",
       "      <td>40268</td>\n",
       "      <td>[Mr,  Speaker, Mr,  Vice President, Members of...</td>\n",
       "      <td>466</td>\n",
       "      <td>86.412017</td>\n",
       "    </tr>\n",
       "    <tr>\n",
       "      <th>6</th>\n",
       "      <td>obama2016.txt</td>\n",
       "      <td>obama</td>\n",
       "      <td>2016</td>\n",
       "      <td>Mr. Speaker, Mr. Vice President, Members of Co...</td>\n",
       "      <td>31167</td>\n",
       "      <td>[Mr,  Speaker, Mr,  Vice President, Members of...</td>\n",
       "      <td>304</td>\n",
       "      <td>102.523026</td>\n",
       "    </tr>\n",
       "    <tr>\n",
       "      <th>7</th>\n",
       "      <td>trump2018.txt</td>\n",
       "      <td>trump</td>\n",
       "      <td>2018</td>\n",
       "      <td>Mr. Speaker, Mr. Vice President, Members of Co...</td>\n",
       "      <td>30457</td>\n",
       "      <td>[Mr,  Speaker, Mr,  Vice President, Members of...</td>\n",
       "      <td>322</td>\n",
       "      <td>94.586957</td>\n",
       "    </tr>\n",
       "    <tr>\n",
       "      <th>8</th>\n",
       "      <td>trump2019.txt</td>\n",
       "      <td>trump</td>\n",
       "      <td>2019</td>\n",
       "      <td>Madam Speaker, Mr. Vice President, Members of ...</td>\n",
       "      <td>30945</td>\n",
       "      <td>[Madam Speaker, Mr,  Vice President, Members o...</td>\n",
       "      <td>297</td>\n",
       "      <td>104.191919</td>\n",
       "    </tr>\n",
       "    <tr>\n",
       "      <th>9</th>\n",
       "      <td>trump2020.txt</td>\n",
       "      <td>trump</td>\n",
       "      <td>2020</td>\n",
       "      <td>Thank you very much.  Thank you.  Thank you ve...</td>\n",
       "      <td>39648</td>\n",
       "      <td>[Thank you very much,   Thank you,   Thank you...</td>\n",
       "      <td>557</td>\n",
       "      <td>71.181329</td>\n",
       "    </tr>\n",
       "  </tbody>\n",
       "</table>\n",
       "</div>"
      ],
      "text/plain": [
       "        filename   name  year  \\\n",
       "0  obama2010.txt  obama  2010   \n",
       "1  obama2011.txt  obama  2011   \n",
       "2  obama2012.txt  obama  2012   \n",
       "3  obama2013.txt  obama  2013   \n",
       "4  obama2014.txt  obama  2014   \n",
       "5  obama2015.txt  obama  2015   \n",
       "6  obama2016.txt  obama  2016   \n",
       "7  trump2018.txt  trump  2018   \n",
       "8  trump2019.txt  trump  2019   \n",
       "9  trump2020.txt  trump  2020   \n",
       "\n",
       "                                              speech  len_speech  \\\n",
       "0  Madam Speaker, Vice President Biden, members o...       43698   \n",
       "1  Mr. Speaker, Mr. Vice President, members of Co...       41023   \n",
       "2  Mr. Speaker, Mr. Vice President, members of Co...       42203   \n",
       "3  Mr. Speaker, Mr. Vice President, members of Co...       41201   \n",
       "4  Mr. Speaker, Mr. Vice President, Members of Co...       40009   \n",
       "5  Mr. Speaker, Mr. Vice President, Members of Co...       40268   \n",
       "6  Mr. Speaker, Mr. Vice President, Members of Co...       31167   \n",
       "7  Mr. Speaker, Mr. Vice President, Members of Co...       30457   \n",
       "8  Madam Speaker, Mr. Vice President, Members of ...       30945   \n",
       "9  Thank you very much.  Thank you.  Thank you ve...       39648   \n",
       "\n",
       "                                           sentences  num_sentences  \\\n",
       "0  [Madam Speaker, Vice President Biden, members ...            562   \n",
       "1  [Mr,  Speaker, Mr,  Vice President, members of...            500   \n",
       "2  [Mr,  Speaker, Mr,  Vice President, members of...            518   \n",
       "3  [Mr,  Speaker, Mr,  Vice President, members of...            455   \n",
       "4  [Mr,  Speaker, Mr,  Vice President, Members of...            351   \n",
       "5  [Mr,  Speaker, Mr,  Vice President, Members of...            466   \n",
       "6  [Mr,  Speaker, Mr,  Vice President, Members of...            304   \n",
       "7  [Mr,  Speaker, Mr,  Vice President, Members of...            322   \n",
       "8  [Madam Speaker, Mr,  Vice President, Members o...            297   \n",
       "9  [Thank you very much,   Thank you,   Thank you...            557   \n",
       "\n",
       "   avg_sen_length  \n",
       "0       77.754448  \n",
       "1       82.046000  \n",
       "2       81.472973  \n",
       "3       90.551648  \n",
       "4      113.985755  \n",
       "5       86.412017  \n",
       "6      102.523026  \n",
       "7       94.586957  \n",
       "8      104.191919  \n",
       "9       71.181329  "
      ]
     },
     "execution_count": 57,
     "metadata": {},
     "output_type": "execute_result"
    }
   ],
   "source": [
    "speech_df = (\n",
    "    speech_df\n",
    "    .assign(sentences=lambda x: x.speech.str[0:-1].str.split('.').tolist(),\n",
    "            num_sentences=lambda x: x.sentences.str.len(),\n",
    "            avg_sen_length= lambda x: x.len_speech/x.num_sentences)\n",
    ")\n",
    "\n",
    "speech_df"
   ]
  },
  {
   "cell_type": "markdown",
   "id": "1294b730-bf42-452c-bde3-314e33072826",
   "metadata": {},
   "source": [
    "#### 4.4. Obtaining readability scores of each speech\n",
    "\n",
    "Readability indicates how accessible the ideaas in each speeches are, and accessibility helps with connecting with the audience. Althought they are speeches, meaning they were pre-written beforehand, it would still be interesting to gain an insight into readability.\n",
    "\n",
    "\n",
    "Two readability scores will be used to judge the speeches, they are:\n",
    "1. [SMOG (click for article)](https://library.med.utah.edu/Patient_Ed/workshop/handouts/smog_formula.pdf)\n",
    "2. [Flesch reading ease score (click for article)](https://en.wikipedia.org/wiki/Flesch–Kincaid_readability_tests)"
   ]
  },
  {
   "cell_type": "code",
   "execution_count": 60,
   "id": "a74bbbe3-c2d1-4d7f-8551-c9b6e2bb4808",
   "metadata": {},
   "outputs": [],
   "source": [
    "import readability"
   ]
  },
  {
   "cell_type": "code",
   "execution_count": 85,
   "id": "0344e7c6-d821-4799-958d-e4d7635cd4f8",
   "metadata": {},
   "outputs": [
    {
     "data": {
      "text/plain": [
       "OrderedDict([('readability grades',\n",
       "              OrderedDict([('Kincaid', 2560.3211327056097),\n",
       "                           ('ARI', 3281.8008442270775),\n",
       "                           ('Coleman-Liau', 11.073277455998419),\n",
       "                           ('FleschReadingEase', -6571.055171770728),\n",
       "                           ('GunningFogIndex', 2629.65960081665),\n",
       "                           ('LIX', 6585.705512386872),\n",
       "                           ('SMOGIndex', 148.4819576442385),\n",
       "                           ('RIX', 1464.0),\n",
       "                           ('DaleChallIndex', 333.9597116244629)])),\n",
       "             ('sentence info',\n",
       "              OrderedDict([('characters_per_word', 4.5713045068104945),\n",
       "                           ('syll_per_word', 1.3716214157296522),\n",
       "                           ('words_per_sentence', 6563.4),\n",
       "                           ('sentences_per_paragraph', 10.0),\n",
       "                           ('type_token_ratio', 0.10127373007892251),\n",
       "                           ('characters', 300033),\n",
       "                           ('syllables', 90025),\n",
       "                           ('words', 65634),\n",
       "                           ('wordtypes', 6647),\n",
       "                           ('sentences', 10),\n",
       "                           ('paragraphs', 1),\n",
       "                           ('long_words', 14640),\n",
       "                           ('complex_words', 7055),\n",
       "                           ('complex_words_dc', 19863)])),\n",
       "             ('word usage',\n",
       "              OrderedDict([('tobeverb', 1612),\n",
       "                           ('auxverb', 1146),\n",
       "                           ('conjunction', 2806),\n",
       "                           ('pronoun', 7542),\n",
       "                           ('preposition', 7968),\n",
       "                           ('nominalization', 950)])),\n",
       "             ('sentence beginnings',\n",
       "              OrderedDict([('pronoun', 0),\n",
       "                           ('interrogative', 0),\n",
       "                           ('article', 0),\n",
       "                           ('subordination', 0),\n",
       "                           ('conjunction', 0),\n",
       "                           ('preposition', 0)]))])"
      ]
     },
     "execution_count": 85,
     "metadata": {},
     "output_type": "execute_result"
    }
   ],
   "source": [
    "test = speech_df['speech']\n",
    "\n",
    "results = readability.getmeasures(test, lang='en')\n",
    "\n",
    "results"
   ]
  },
  {
   "cell_type": "code",
   "execution_count": 76,
   "id": "ee68169f-002a-4737-979c-9283ae13b120",
   "metadata": {},
   "outputs": [
    {
     "data": {
      "text/plain": [
       "[24.720575267901523,\n",
       " 32.322806083320536,\n",
       " 26.228014157842694,\n",
       " 52.06242707744663,\n",
       " 9.227648912106872,\n",
       " 56.19437746425349,\n",
       " 25.06250899911781,\n",
       " 51.03448989662204,\n",
       " 44.106259681903715,\n",
       " 33.439535910467704]"
      ]
     },
     "execution_count": 76,
     "metadata": {},
     "output_type": "execute_result"
    }
   ],
   "source": [
    "# getting SMOGIndex and FleschReadingEase for each speech\n",
    "SMOGIndex, flesch = [], []\n",
    "\n",
    "for i in speech_df['speech']:\n",
    "    SMOGIndex.append(readability.getmeasures(i, lang='en')['readability grades']['SMOGIndex'])\n",
    "    flesch.append(readability.getmeasures(i, lang='en')['readability grades']['FleschReadingEase'])\n",
    "    \n",
    "flesch"
   ]
  },
  {
   "cell_type": "code",
   "execution_count": 98,
   "id": "35c60fa4-d9f5-426c-8dc4-492c093809ac",
   "metadata": {},
   "outputs": [
    {
     "data": {
      "text/html": [
       "<div>\n",
       "<style scoped>\n",
       "    .dataframe tbody tr th:only-of-type {\n",
       "        vertical-align: middle;\n",
       "    }\n",
       "\n",
       "    .dataframe tbody tr th {\n",
       "        vertical-align: top;\n",
       "    }\n",
       "\n",
       "    .dataframe thead th {\n",
       "        text-align: right;\n",
       "    }\n",
       "</style>\n",
       "<table border=\"1\" class=\"dataframe\">\n",
       "  <thead>\n",
       "    <tr style=\"text-align: right;\">\n",
       "      <th></th>\n",
       "      <th>filename</th>\n",
       "      <th>name</th>\n",
       "      <th>year</th>\n",
       "      <th>speech</th>\n",
       "      <th>len_speech</th>\n",
       "      <th>sentences</th>\n",
       "      <th>num_sentences</th>\n",
       "      <th>avg_sen_length</th>\n",
       "      <th>SMOGIndex</th>\n",
       "      <th>flesch</th>\n",
       "    </tr>\n",
       "  </thead>\n",
       "  <tbody>\n",
       "    <tr>\n",
       "      <th>0</th>\n",
       "      <td>obama2010.txt</td>\n",
       "      <td>obama</td>\n",
       "      <td>2010</td>\n",
       "      <td>Madam Speaker, Vice President Biden, members o...</td>\n",
       "      <td>43698</td>\n",
       "      <td>[Madam Speaker, Vice President Biden, members ...</td>\n",
       "      <td>562</td>\n",
       "      <td>77.754448</td>\n",
       "      <td>17.826429</td>\n",
       "      <td>24.720575</td>\n",
       "    </tr>\n",
       "    <tr>\n",
       "      <th>1</th>\n",
       "      <td>obama2011.txt</td>\n",
       "      <td>obama</td>\n",
       "      <td>2011</td>\n",
       "      <td>Mr. Speaker, Mr. Vice President, members of Co...</td>\n",
       "      <td>41023</td>\n",
       "      <td>[Mr,  Speaker, Mr,  Vice President, members of...</td>\n",
       "      <td>500</td>\n",
       "      <td>82.046000</td>\n",
       "      <td>16.543303</td>\n",
       "      <td>32.322806</td>\n",
       "    </tr>\n",
       "    <tr>\n",
       "      <th>2</th>\n",
       "      <td>obama2012.txt</td>\n",
       "      <td>obama</td>\n",
       "      <td>2012</td>\n",
       "      <td>Mr. Speaker, Mr. Vice President, members of Co...</td>\n",
       "      <td>42203</td>\n",
       "      <td>[Mr,  Speaker, Mr,  Vice President, members of...</td>\n",
       "      <td>518</td>\n",
       "      <td>81.472973</td>\n",
       "      <td>17.344065</td>\n",
       "      <td>26.228014</td>\n",
       "    </tr>\n",
       "    <tr>\n",
       "      <th>3</th>\n",
       "      <td>obama2013.txt</td>\n",
       "      <td>obama</td>\n",
       "      <td>2013</td>\n",
       "      <td>Mr. Speaker, Mr. Vice President, members of Co...</td>\n",
       "      <td>41201</td>\n",
       "      <td>[Mr,  Speaker, Mr,  Vice President, members of...</td>\n",
       "      <td>455</td>\n",
       "      <td>90.551648</td>\n",
       "      <td>14.187551</td>\n",
       "      <td>52.062427</td>\n",
       "    </tr>\n",
       "    <tr>\n",
       "      <th>4</th>\n",
       "      <td>obama2014.txt</td>\n",
       "      <td>obama</td>\n",
       "      <td>2014</td>\n",
       "      <td>Mr. Speaker, Mr. Vice President, Members of Co...</td>\n",
       "      <td>40009</td>\n",
       "      <td>[Mr,  Speaker, Mr,  Vice President, Members of...</td>\n",
       "      <td>351</td>\n",
       "      <td>113.985755</td>\n",
       "      <td>19.064501</td>\n",
       "      <td>9.227649</td>\n",
       "    </tr>\n",
       "    <tr>\n",
       "      <th>5</th>\n",
       "      <td>obama2015.txt</td>\n",
       "      <td>obama</td>\n",
       "      <td>2015</td>\n",
       "      <td>Mr. Speaker, Mr. Vice President, Members of Co...</td>\n",
       "      <td>40268</td>\n",
       "      <td>[Mr,  Speaker, Mr,  Vice President, Members of...</td>\n",
       "      <td>466</td>\n",
       "      <td>86.412017</td>\n",
       "      <td>13.518314</td>\n",
       "      <td>56.194377</td>\n",
       "    </tr>\n",
       "    <tr>\n",
       "      <th>6</th>\n",
       "      <td>obama2016.txt</td>\n",
       "      <td>obama</td>\n",
       "      <td>2016</td>\n",
       "      <td>Mr. Speaker, Mr. Vice President, Members of Co...</td>\n",
       "      <td>31167</td>\n",
       "      <td>[Mr,  Speaker, Mr,  Vice President, Members of...</td>\n",
       "      <td>304</td>\n",
       "      <td>102.523026</td>\n",
       "      <td>17.441406</td>\n",
       "      <td>25.062509</td>\n",
       "    </tr>\n",
       "    <tr>\n",
       "      <th>7</th>\n",
       "      <td>trump2018.txt</td>\n",
       "      <td>trump</td>\n",
       "      <td>2018</td>\n",
       "      <td>Mr. Speaker, Mr. Vice President, Members of Co...</td>\n",
       "      <td>30457</td>\n",
       "      <td>[Mr,  Speaker, Mr,  Vice President, Members of...</td>\n",
       "      <td>322</td>\n",
       "      <td>94.586957</td>\n",
       "      <td>13.843611</td>\n",
       "      <td>51.034490</td>\n",
       "    </tr>\n",
       "    <tr>\n",
       "      <th>8</th>\n",
       "      <td>trump2019.txt</td>\n",
       "      <td>trump</td>\n",
       "      <td>2019</td>\n",
       "      <td>Madam Speaker, Mr. Vice President, Members of ...</td>\n",
       "      <td>30945</td>\n",
       "      <td>[Madam Speaker, Mr,  Vice President, Members o...</td>\n",
       "      <td>297</td>\n",
       "      <td>104.191919</td>\n",
       "      <td>14.799100</td>\n",
       "      <td>44.106260</td>\n",
       "    </tr>\n",
       "    <tr>\n",
       "      <th>9</th>\n",
       "      <td>trump2020.txt</td>\n",
       "      <td>trump</td>\n",
       "      <td>2020</td>\n",
       "      <td>Thank you very much.  Thank you.  Thank you ve...</td>\n",
       "      <td>39648</td>\n",
       "      <td>[Thank you very much,   Thank you,   Thank you...</td>\n",
       "      <td>557</td>\n",
       "      <td>71.181329</td>\n",
       "      <td>16.381695</td>\n",
       "      <td>33.439536</td>\n",
       "    </tr>\n",
       "  </tbody>\n",
       "</table>\n",
       "</div>"
      ],
      "text/plain": [
       "        filename   name  year  \\\n",
       "0  obama2010.txt  obama  2010   \n",
       "1  obama2011.txt  obama  2011   \n",
       "2  obama2012.txt  obama  2012   \n",
       "3  obama2013.txt  obama  2013   \n",
       "4  obama2014.txt  obama  2014   \n",
       "5  obama2015.txt  obama  2015   \n",
       "6  obama2016.txt  obama  2016   \n",
       "7  trump2018.txt  trump  2018   \n",
       "8  trump2019.txt  trump  2019   \n",
       "9  trump2020.txt  trump  2020   \n",
       "\n",
       "                                              speech  len_speech  \\\n",
       "0  Madam Speaker, Vice President Biden, members o...       43698   \n",
       "1  Mr. Speaker, Mr. Vice President, members of Co...       41023   \n",
       "2  Mr. Speaker, Mr. Vice President, members of Co...       42203   \n",
       "3  Mr. Speaker, Mr. Vice President, members of Co...       41201   \n",
       "4  Mr. Speaker, Mr. Vice President, Members of Co...       40009   \n",
       "5  Mr. Speaker, Mr. Vice President, Members of Co...       40268   \n",
       "6  Mr. Speaker, Mr. Vice President, Members of Co...       31167   \n",
       "7  Mr. Speaker, Mr. Vice President, Members of Co...       30457   \n",
       "8  Madam Speaker, Mr. Vice President, Members of ...       30945   \n",
       "9  Thank you very much.  Thank you.  Thank you ve...       39648   \n",
       "\n",
       "                                           sentences  num_sentences  \\\n",
       "0  [Madam Speaker, Vice President Biden, members ...            562   \n",
       "1  [Mr,  Speaker, Mr,  Vice President, members of...            500   \n",
       "2  [Mr,  Speaker, Mr,  Vice President, members of...            518   \n",
       "3  [Mr,  Speaker, Mr,  Vice President, members of...            455   \n",
       "4  [Mr,  Speaker, Mr,  Vice President, Members of...            351   \n",
       "5  [Mr,  Speaker, Mr,  Vice President, Members of...            466   \n",
       "6  [Mr,  Speaker, Mr,  Vice President, Members of...            304   \n",
       "7  [Mr,  Speaker, Mr,  Vice President, Members of...            322   \n",
       "8  [Madam Speaker, Mr,  Vice President, Members o...            297   \n",
       "9  [Thank you very much,   Thank you,   Thank you...            557   \n",
       "\n",
       "   avg_sen_length  SMOGIndex     flesch  \n",
       "0       77.754448  17.826429  24.720575  \n",
       "1       82.046000  16.543303  32.322806  \n",
       "2       81.472973  17.344065  26.228014  \n",
       "3       90.551648  14.187551  52.062427  \n",
       "4      113.985755  19.064501   9.227649  \n",
       "5       86.412017  13.518314  56.194377  \n",
       "6      102.523026  17.441406  25.062509  \n",
       "7       94.586957  13.843611  51.034490  \n",
       "8      104.191919  14.799100  44.106260  \n",
       "9       71.181329  16.381695  33.439536  "
      ]
     },
     "execution_count": 98,
     "metadata": {},
     "output_type": "execute_result"
    }
   ],
   "source": [
    "# inserting measures into dataframe\n",
    "speech_df = speech_df.assign(SMOGIndex=SMOGIndex, flesch=flesch)\n",
    "\n",
    "speech_df"
   ]
  },
  {
   "cell_type": "markdown",
   "id": "edf2ed0a-f1e1-4e78-8a62-05eac7991a67",
   "metadata": {},
   "source": [
    "### 5. Data Visualization"
   ]
  },
  {
   "cell_type": "code",
   "execution_count": 83,
   "id": "c87a9516-207d-472d-8d78-651a0b24015f",
   "metadata": {},
   "outputs": [],
   "source": [
    "# plot style\n",
    "plt.style.use('ggplot')\n",
    "\n",
    "# plot title size\n",
    "plt.rc('axes', titlesize=18)\n",
    "\n",
    "# plot font size\n",
    "plt.rc('font', size=13)\n",
    "\n",
    "# plot figure size\n",
    "matplotlib.rcParams['figure.figsize'] = (18, 9)"
   ]
  },
  {
   "cell_type": "markdown",
   "id": "d66d0cdd-94cf-4849-ac4d-68074685b68e",
   "metadata": {},
   "source": [
    "#### 5.1. Length of speech by President"
   ]
  },
  {
   "cell_type": "code",
   "execution_count": 84,
   "id": "e273ea17-cf9c-463c-af29-899ad5df7fad",
   "metadata": {},
   "outputs": [
    {
     "data": {
      "text/plain": [
       "<AxesSubplot:xlabel='name', ylabel='len_speech'>"
      ]
     },
     "execution_count": 84,
     "metadata": {},
     "output_type": "execute_result"
    },
    {
     "data": {
      "image/png": "[encoded data removed]",
      "text/plain": [
       "<Figure size 1296x648 with 1 Axes>"
      ]
     },
     "metadata": {},
     "output_type": "display_data"
    }
   ],
   "source": [
    "sns.boxplot(data=speech_df, x='name', y='len_speech')"
   ]
  },
  {
   "cell_type": "markdown",
   "id": "d067ff0c-89c6-4ffd-b462-31af2202835c",
   "metadata": {},
   "source": [
    "#### 5.2. Number of sentence by President"
   ]
  },
  {
   "cell_type": "code",
   "execution_count": 86,
   "id": "d615fef4-43fa-4b78-800c-dde9169854c1",
   "metadata": {},
   "outputs": [
    {
     "data": {
      "text/plain": [
       "<AxesSubplot:xlabel='name', ylabel='num_sentences'>"
      ]
     },
     "execution_count": 86,
     "metadata": {},
     "output_type": "execute_result"
    },
    {
     "data": {
      "image/png": "[encoded data removed]",
      "text/plain": [
       "<Figure size 1296x648 with 1 Axes>"
      ]
     },
     "metadata": {},
     "output_type": "display_data"
    }
   ],
   "source": [
    "sns.boxplot(data=speech_df, x='name', y='num_sentences')"
   ]
  },
  {
   "cell_type": "markdown",
   "id": "07b73df2-6adf-4da4-8e96-87402ce68c5d",
   "metadata": {},
   "source": [
    "So far, President Trump's speeches has been shorter plus fewer sentences. However, that may not be the entire story. We can look at the average sentence length to have a better understanding."
   ]
  },
  {
   "cell_type": "markdown",
   "id": "64220ae8-1f41-4844-9fb0-7f534dfeb91c",
   "metadata": {},
   "source": [
    "#### 5.3. Average length sentence by President"
   ]
  },
  {
   "cell_type": "code",
   "execution_count": 89,
   "id": "e02f5523-6f3d-4297-b24f-d7be1480c70d",
   "metadata": {},
   "outputs": [
    {
     "data": {
      "text/plain": [
       "<AxesSubplot:xlabel='name', ylabel='avg_sen_length'>"
      ]
     },
     "execution_count": 89,
     "metadata": {},
     "output_type": "execute_result"
    },
    {
     "data": {
      "image/png": "[encoded data removed]",
      "text/plain": [
       "<Figure size 1296x648 with 1 Axes>"
      ]
     },
     "metadata": {},
     "output_type": "display_data"
    }
   ],
   "source": [
    "sns.boxplot(data=speech_df, x='name', y='avg_sen_length')"
   ]
  },
  {
   "cell_type": "code",
   "execution_count": 99,
   "id": "e52aa2b6-aa5c-40d6-a12d-80ee55841578",
   "metadata": {},
   "outputs": [
    {
     "name": "stdout",
     "output_type": "stream",
     "text": [
      "Obama's avg sentence length: 90.67798117030347\n",
      "Trump's avg sentence length: 89.98673475314644\n"
     ]
    }
   ],
   "source": [
    "print(f\"Obama's avg sentence length: {speech_df[speech_df['name']=='obama']['avg_sen_length'].mean()}\")\n",
    "\n",
    "print(f\"Trump's avg sentence length: {speech_df[speech_df['name']=='trump']['avg_sen_length'].mean()}\")"
   ]
  },
  {
   "cell_type": "markdown",
   "id": "5ae4cc5f-0141-4c74-ac6d-17864b4ca553",
   "metadata": {},
   "source": [
    "#### 5.4. SMOG Index by President"
   ]
  },
  {
   "cell_type": "code",
   "execution_count": 101,
   "id": "0e898619-28ae-4809-a8dd-38f2b3b08b9b",
   "metadata": {},
   "outputs": [
    {
     "data": {
      "text/plain": [
       "<AxesSubplot:xlabel='name', ylabel='SMOGIndex'>"
      ]
     },
     "execution_count": 101,
     "metadata": {},
     "output_type": "execute_result"
    },
    {
     "data": {
      "image/png": "[encoded data removed]",
      "text/plain": [
       "<Figure size 1296x648 with 1 Axes>"
      ]
     },
     "metadata": {},
     "output_type": "display_data"
    }
   ],
   "source": [
    "sns.boxplot(data=speech_df, x='name', y='SMOGIndex')"
   ]
  },
  {
   "cell_type": "markdown",
   "id": "c57c3c86-f5cf-45bf-b2b4-e382fecbad5f",
   "metadata": {},
   "source": [
    "#### 5.5. Flesch Score by President"
   ]
  },
  {
   "cell_type": "code",
   "execution_count": 102,
   "id": "cf030280-bbf1-4420-8f84-7ab23070c67c",
   "metadata": {},
   "outputs": [
    {
     "data": {
      "text/plain": [
       "<AxesSubplot:xlabel='name', ylabel='flesch'>"
      ]
     },
     "execution_count": 102,
     "metadata": {},
     "output_type": "execute_result"
    },
    {
     "data": {
      "image/png": "[encoded data removed]",
      "text/plain": [
       "<Figure size 1296x648 with 1 Axes>"
      ]
     },
     "metadata": {},
     "output_type": "display_data"
    }
   ],
   "source": [
    "sns.boxplot(data=speech_df, x='name', y='flesch')"
   ]
  },
  {
   "cell_type": "markdown",
   "id": "a66c2f78-b1f0-424a-b5f0-d5693a95feff",
   "metadata": {},
   "source": [
    "Note, the higher the SMOGIndex score, the harder it is to read the speech. Conversely, for flesch score, the lower it is, the harder it is to read.\n",
    "\n",
    "To summarize, it is harder to read President Obama's speeches whereas President Trump's speeches were generally easier to read."
   ]
  },
  {
   "cell_type": "markdown",
   "id": "e00cdece-660c-4db6-810c-ee4660e5d320",
   "metadata": {},
   "source": [
    "### 6. SpaCy - PoS Tagging"
   ]
  },
  {
   "cell_type": "code",
   "execution_count": 114,
   "id": "e2ae49e2-b9d6-49a5-8dab-78d0d508cb0b",
   "metadata": {},
   "outputs": [],
   "source": [
    "import en_core_web_sm"
   ]
  },
  {
   "cell_type": "code",
   "execution_count": 116,
   "id": "5ba60c3d-a0c4-4a1a-8f65-346e624a5dfe",
   "metadata": {},
   "outputs": [],
   "source": [
    "# loading pre-trained model \n",
    "nlp = en_core_web_sm.load()"
   ]
  },
  {
   "cell_type": "code",
   "execution_count": 119,
   "id": "19070e15-18d1-44ea-93de-e0f2bfc1f381",
   "metadata": {},
   "outputs": [
    {
     "name": "stdout",
     "output_type": "stream",
     "text": [
      "PROPN\n",
      "AUX\n",
      "VERB\n",
      "ADP\n",
      "VERB\n",
      "PROPN\n",
      "NOUN\n",
      "ADP\n",
      "SYM\n",
      "NUM\n",
      "NUM\n"
     ]
    }
   ],
   "source": [
    "doc = nlp(\"Apple is looking at buying U.K. startup for $1 billion\")\n",
    "\n",
    "for token in doc:\n",
    "    print(token.pos_)"
   ]
  },
  {
   "cell_type": "code",
   "execution_count": 143,
   "id": "993960e0-5ffb-4ae6-b104-5993708f7476",
   "metadata": {},
   "outputs": [
    {
     "data": {
      "text/plain": [
       "Counter({'PUNCT': 7, 'SPACE': 2, 'PROPN': 5, 'NOUN': 5, 'X': 1})"
      ]
     },
     "execution_count": 143,
     "metadata": {},
     "output_type": "execute_result"
    }
   ],
   "source": [
    "# Wrapping obama's 2010 speech into a list for SpaCy's POS tagging\n",
    "\n",
    "# speech_df.loc[speech_df['year'] == '2010', 'speech']\n",
    "speech_2010 = speech_df[speech_df['year'] == '2010']['speech']\n",
    "\n",
    "\n",
    "\n",
    "for token in nlp(str(speech_2010)):\n",
    "    lst_2010.append(token.pos_)\n",
    "\n",
    "from collections import Counter\n",
    "\n",
    "Counter(lst_2010)"
   ]
  },
  {
   "cell_type": "code",
   "execution_count": 184,
   "id": "1049ad15-2719-418c-8c2a-b625aa13eb20",
   "metadata": {},
   "outputs": [
    {
     "data": {
      "text/plain": [
       "Counter({'PUNCT': 1221,\n",
       "         'PROPN': 412,\n",
       "         'NOUN': 1588,\n",
       "         'ADP': 689,\n",
       "         'ADJ': 539,\n",
       "         'CCONJ': 298,\n",
       "         'DET': 949,\n",
       "         'VERB': 1139,\n",
       "         'SCONJ': 163,\n",
       "         'NUM': 106,\n",
       "         'AUX': 327,\n",
       "         'ADV': 378,\n",
       "         'PART': 285,\n",
       "         'PRON': 450,\n",
       "         'X': 8,\n",
       "         'INTJ': 23,\n",
       "         'SYM': 12})"
      ]
     },
     "execution_count": 184,
     "metadata": {},
     "output_type": "execute_result"
    }
   ],
   "source": [
    "test_lst = []\n",
    "\n",
    "for token in nlp(str(speech_df.query('year == \"2010\"')['speech'].to_list())):\n",
    "    test_lst.append(token.pos_)\n",
    "    \n",
    "Counter(test_lst)"
   ]
  },
  {
   "cell_type": "code",
   "execution_count": 189,
   "id": "46c7a98d-c034-49de-b7ae-26b0b9fbebc0",
   "metadata": {},
   "outputs": [
    {
     "name": "stdout",
     "output_type": "stream",
     "text": [
      "M\n",
      "M\n",
      "M\n",
      "M\n",
      "M\n",
      "M\n",
      "M\n",
      "M\n",
      "M\n",
      "T\n"
     ]
    }
   ],
   "source": [
    "out = [[] for val in range(0, len(speech_df['speech'].to_list()))]\n",
    "\n"
   ]
  },
  {
   "cell_type": "code",
   "execution_count": 171,
   "id": "690d30f5-ee2c-4dba-a0f1-3e2ede5069c3",
   "metadata": {},
   "outputs": [
    {
     "data": {
      "text/plain": [
       "10"
      ]
     },
     "execution_count": 171,
     "metadata": {},
     "output_type": "execute_result"
    }
   ],
   "source": [
    "len(speech_df['speech'].to_list())"
   ]
  },
  {
   "cell_type": "code",
   "execution_count": 195,
   "id": "761c3db8-c448-4c84-bb96-3ae196356335",
   "metadata": {},
   "outputs": [
    {
     "ename": "IndentationError",
     "evalue": "expected an indented block (<ipython-input-195-cc67f754f6b0>, line 6)",
     "output_type": "error",
     "traceback": [
      "\u001b[0;36m  File \u001b[0;32m\"<ipython-input-195-cc67f754f6b0>\"\u001b[0;36m, line \u001b[0;32m6\u001b[0m\n\u001b[0;31m    out.append(token.pos_)\u001b[0m\n\u001b[0m    ^\u001b[0m\n\u001b[0;31mIndentationError\u001b[0m\u001b[0;31m:\u001b[0m expected an indented block\n"
     ]
    }
   ],
   "source": [
    "out = [[] for val in range(0, len(speech_df['speech'].to_list()))]\n",
    "test_lst = []\n",
    "\n",
    "for i in speech_df['speech'].to_list():\n",
    "    for token in nlp(str(i)):    \n",
    "        out.append(token.pos_)\n",
    "    \n",
    "Counter(out)"
   ]
  },
  {
   "cell_type": "code",
   "execution_count": 196,
   "id": "6144f2a2-8911-4375-b005-d6c5f5313c7e",
   "metadata": {},
   "outputs": [
    {
     "ename": "TypeError",
     "evalue": "unhashable type: 'list'",
     "output_type": "error",
     "traceback": [
      "\u001b[0;31m---------------------------------------------------------------------------\u001b[0m",
      "\u001b[0;31mTypeError\u001b[0m                                 Traceback (most recent call last)",
      "\u001b[0;32m<ipython-input-196-1244d3ada09d>\u001b[0m in \u001b[0;36m<module>\u001b[0;34m\u001b[0m\n\u001b[1;32m      2\u001b[0m     \u001b[0;34m[\u001b[0m\u001b[0mout\u001b[0m\u001b[0;34m.\u001b[0m\u001b[0mappend\u001b[0m\u001b[0;34m(\u001b[0m\u001b[0mtoken\u001b[0m\u001b[0;34m.\u001b[0m\u001b[0mpos_\u001b[0m\u001b[0;34m)\u001b[0m \u001b[0;32mfor\u001b[0m \u001b[0mtoken\u001b[0m \u001b[0;32min\u001b[0m \u001b[0mnlp\u001b[0m\u001b[0;34m(\u001b[0m\u001b[0mstr\u001b[0m\u001b[0;34m(\u001b[0m\u001b[0mi\u001b[0m\u001b[0;34m)\u001b[0m\u001b[0;34m)\u001b[0m\u001b[0;34m]\u001b[0m\u001b[0;34m\u001b[0m\u001b[0;34m\u001b[0m\u001b[0m\n\u001b[1;32m      3\u001b[0m \u001b[0;34m\u001b[0m\u001b[0m\n\u001b[0;32m----> 4\u001b[0;31m \u001b[0mCounter\u001b[0m\u001b[0;34m(\u001b[0m\u001b[0mout\u001b[0m\u001b[0;34m)\u001b[0m\u001b[0;34m\u001b[0m\u001b[0;34m\u001b[0m\u001b[0m\n\u001b[0m",
      "\u001b[0;32m~/opt/anaconda3/lib/python3.8/collections/__init__.py\u001b[0m in \u001b[0;36m__init__\u001b[0;34m(self, iterable, **kwds)\u001b[0m\n\u001b[1;32m    550\u001b[0m         '''\n\u001b[1;32m    551\u001b[0m         \u001b[0msuper\u001b[0m\u001b[0;34m(\u001b[0m\u001b[0mCounter\u001b[0m\u001b[0;34m,\u001b[0m \u001b[0mself\u001b[0m\u001b[0;34m)\u001b[0m\u001b[0;34m.\u001b[0m\u001b[0m__init__\u001b[0m\u001b[0;34m(\u001b[0m\u001b[0;34m)\u001b[0m\u001b[0;34m\u001b[0m\u001b[0;34m\u001b[0m\u001b[0m\n\u001b[0;32m--> 552\u001b[0;31m         \u001b[0mself\u001b[0m\u001b[0;34m.\u001b[0m\u001b[0mupdate\u001b[0m\u001b[0;34m(\u001b[0m\u001b[0miterable\u001b[0m\u001b[0;34m,\u001b[0m \u001b[0;34m**\u001b[0m\u001b[0mkwds\u001b[0m\u001b[0;34m)\u001b[0m\u001b[0;34m\u001b[0m\u001b[0;34m\u001b[0m\u001b[0m\n\u001b[0m\u001b[1;32m    553\u001b[0m \u001b[0;34m\u001b[0m\u001b[0m\n\u001b[1;32m    554\u001b[0m     \u001b[0;32mdef\u001b[0m \u001b[0m__missing__\u001b[0m\u001b[0;34m(\u001b[0m\u001b[0mself\u001b[0m\u001b[0;34m,\u001b[0m \u001b[0mkey\u001b[0m\u001b[0;34m)\u001b[0m\u001b[0;34m:\u001b[0m\u001b[0;34m\u001b[0m\u001b[0;34m\u001b[0m\u001b[0m\n",
      "\u001b[0;32m~/opt/anaconda3/lib/python3.8/collections/__init__.py\u001b[0m in \u001b[0;36mupdate\u001b[0;34m(self, iterable, **kwds)\u001b[0m\n\u001b[1;32m    635\u001b[0m                     \u001b[0msuper\u001b[0m\u001b[0;34m(\u001b[0m\u001b[0mCounter\u001b[0m\u001b[0;34m,\u001b[0m \u001b[0mself\u001b[0m\u001b[0;34m)\u001b[0m\u001b[0;34m.\u001b[0m\u001b[0mupdate\u001b[0m\u001b[0;34m(\u001b[0m\u001b[0miterable\u001b[0m\u001b[0;34m)\u001b[0m \u001b[0;31m# fast path when counter is empty\u001b[0m\u001b[0;34m\u001b[0m\u001b[0;34m\u001b[0m\u001b[0m\n\u001b[1;32m    636\u001b[0m             \u001b[0;32melse\u001b[0m\u001b[0;34m:\u001b[0m\u001b[0;34m\u001b[0m\u001b[0;34m\u001b[0m\u001b[0m\n\u001b[0;32m--> 637\u001b[0;31m                 \u001b[0m_count_elements\u001b[0m\u001b[0;34m(\u001b[0m\u001b[0mself\u001b[0m\u001b[0;34m,\u001b[0m \u001b[0miterable\u001b[0m\u001b[0;34m)\u001b[0m\u001b[0;34m\u001b[0m\u001b[0;34m\u001b[0m\u001b[0m\n\u001b[0m\u001b[1;32m    638\u001b[0m         \u001b[0;32mif\u001b[0m \u001b[0mkwds\u001b[0m\u001b[0;34m:\u001b[0m\u001b[0;34m\u001b[0m\u001b[0;34m\u001b[0m\u001b[0m\n\u001b[1;32m    639\u001b[0m             \u001b[0mself\u001b[0m\u001b[0;34m.\u001b[0m\u001b[0mupdate\u001b[0m\u001b[0;34m(\u001b[0m\u001b[0mkwds\u001b[0m\u001b[0;34m)\u001b[0m\u001b[0;34m\u001b[0m\u001b[0;34m\u001b[0m\u001b[0m\n",
      "\u001b[0;31mTypeError\u001b[0m: unhashable type: 'list'"
     ]
    }
   ],
   "source": [
    "for i in speech_df['speech'].to_list():\n",
    "    [out.append(token.pos_) for token in nlp(str(i))]\n",
    "\n",
    "Counter(out)"
   ]
  },
  {
   "cell_type": "code",
   "execution_count": null,
   "id": "320a6e44-f45c-4292-b3f6-1e03a9cb5543",
   "metadata": {},
   "outputs": [],
   "source": []
  }
 ],
 "metadata": {
  "kernelspec": {
   "display_name": "Python 3",
   "language": "python",
   "name": "python3"
  },
  "language_info": {
   "codemirror_mode": {
    "name": "ipython",
    "version": 3
   },
   "file_extension": ".py",
   "mimetype": "text/x-python",
   "name": "python",
   "nbconvert_exporter": "python",
   "pygments_lexer": "ipython3",
   "version": "3.8.5"
  }
 },
 "nbformat": 4,
 "nbformat_minor": 5
}
