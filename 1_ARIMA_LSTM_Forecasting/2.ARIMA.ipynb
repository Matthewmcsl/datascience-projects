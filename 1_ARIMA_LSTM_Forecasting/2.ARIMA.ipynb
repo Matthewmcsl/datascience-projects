{
 "cells": [
  {
   "cell_type": "markdown",
   "metadata": {},
   "source": [
    "## Forecasting Stock Prices with LSTM Model (Long-Short Term Memory)\n",
    "- the following LSTM Data Science project draws inspiration from the following literature review and uplevel's mini datascience project\n",
    "- https://journals.plos.org/plosone/article?id=10.1371/journal.pone.0227222\n",
    "- https://dataprojects.uplevel.work"
   ]
  },
  {
   "cell_type": "markdown",
   "metadata": {},
   "source": [
    "### 4. Forecasting using ARIMA"
   ]
  },
  {
   "cell_type": "markdown",
   "metadata": {},
   "source": [
    "The traditional ARIMA model is composed of 3 parameters\n",
    "- AR component (Auto regressive process): predicting future values based on its own past values, regressing on itself.\n",
    "- I component (Integrated process)\n",
    "- MA component (Moving average process)\n",
    "\n",
    "ARIMA models three aspects of a time series\n",
    "- Seasonality: Seasonal patterns in the time series (e.g. increase influx of tourists during the christmas holidays)\n",
    "- Trend: Upward/downward movement of data with time over a large period of time (e.g. house value appreciation)\n",
    "- White noise: How much random variability is in the data (spikes and troughs at random intervals)\n",
    "\n",
    "Idea conditions for forecasting using ARIMA:\n",
    "- Time series is stationary - meaning without seasonality and trend"
   ]
  },
  {
   "cell_type": "markdown",
   "metadata": {},
   "source": [
    "### Importing necessary libraries"
   ]
  },
  {
   "cell_type": "code",
   "execution_count": 30,
   "metadata": {},
   "outputs": [],
   "source": [
    "import yfinance as yf\n",
    "import pandas as pd\n",
    "import matplotlib\n",
    "import matplotlib.pyplot as plt\n",
    "import seaborn as sns\n",
    "from statsmodels.tsa.arima_model import ARIMA\n",
    "%matplotlib inline\n",
    "\n",
    "# suppress arima depreciated warnings\n",
    "import warnings\n",
    "warnings.filterwarnings('ignore')\n",
    "\n",
    "# plot style\n",
    "plt.style.use('ggplot')\n",
    "# plot title size\n",
    "plt.rc('axes', titlesize=18)\n",
    "# plot font size\n",
    "plt.rc('font', size=13)\n",
    "# plot figure size\n",
    "matplotlib.rcParams['figure.figsize'] = (18, 9)"
   ]
  },
  {
   "cell_type": "markdown",
   "metadata": {},
   "source": [
    "### 4.1. ARIMA"
   ]
  },
  {
   "cell_type": "markdown",
   "metadata": {},
   "source": [
    "Fitting 'Open' data into ARIMA model rather than difference data since ARIMA model will account for the 1st Order differencing already, splitting into test and train data\n",
    "- Train: 3 Jan 2000 to 16 May 2019\n",
    "- Test: 17 May 2019 to 1 July 2019"
   ]
  },
  {
   "cell_type": "code",
   "execution_count": 2,
   "metadata": {},
   "outputs": [
    {
     "name": "stdout",
     "output_type": "stream",
     "text": [
      "[*********************100%***********************]  1 of 1 completed\n"
     ]
    }
   ],
   "source": [
    "# getting s&p500 data\n",
    "snp500 = yf.download(tickers=['^GSPC'], start='2000-01-03', end='2019-07-01')\n",
    "\n",
    "# backfilling s&p data with non-trading days\n",
    "snp500_backfilled = snp500.asfreq(freq='1D', method='backfill')"
   ]
  },
  {
   "cell_type": "markdown",
   "metadata": {},
   "source": [
    "### Splitting into training and testing set"
   ]
  },
  {
   "cell_type": "code",
   "execution_count": 3,
   "metadata": {},
   "outputs": [
    {
     "data": {
      "text/html": [
       "<div>\n",
       "<style scoped>\n",
       "    .dataframe tbody tr th:only-of-type {\n",
       "        vertical-align: middle;\n",
       "    }\n",
       "\n",
       "    .dataframe tbody tr th {\n",
       "        vertical-align: top;\n",
       "    }\n",
       "\n",
       "    .dataframe thead th {\n",
       "        text-align: right;\n",
       "    }\n",
       "</style>\n",
       "<table border=\"1\" class=\"dataframe\">\n",
       "  <thead>\n",
       "    <tr style=\"text-align: right;\">\n",
       "      <th></th>\n",
       "      <th>Open</th>\n",
       "    </tr>\n",
       "    <tr>\n",
       "      <th>Date</th>\n",
       "      <th></th>\n",
       "    </tr>\n",
       "  </thead>\n",
       "  <tbody>\n",
       "    <tr>\n",
       "      <th>2019-05-17</th>\n",
       "      <td>2858.600098</td>\n",
       "    </tr>\n",
       "    <tr>\n",
       "      <th>2019-05-18</th>\n",
       "      <td>2841.939941</td>\n",
       "    </tr>\n",
       "    <tr>\n",
       "      <th>2019-05-19</th>\n",
       "      <td>2841.939941</td>\n",
       "    </tr>\n",
       "    <tr>\n",
       "      <th>2019-05-20</th>\n",
       "      <td>2841.939941</td>\n",
       "    </tr>\n",
       "    <tr>\n",
       "      <th>2019-05-21</th>\n",
       "      <td>2854.020020</td>\n",
       "    </tr>\n",
       "  </tbody>\n",
       "</table>\n",
       "</div>"
      ],
      "text/plain": [
       "                   Open\n",
       "Date                   \n",
       "2019-05-17  2858.600098\n",
       "2019-05-18  2841.939941\n",
       "2019-05-19  2841.939941\n",
       "2019-05-20  2841.939941\n",
       "2019-05-21  2854.020020"
      ]
     },
     "execution_count": 3,
     "metadata": {},
     "output_type": "execute_result"
    }
   ],
   "source": [
    "open_data = snp500_backfilled.Open.to_frame().reset_index()\n",
    "\n",
    "train = open_data.query('Date >= \"2000-01-03\" & Date <= \"2019-05-16\"')\n",
    "# set index to date for fitting into ARIMA model\n",
    "train = train.set_index(keys=['Date'])\n",
    "\n",
    "test = open_data.loc[(open_data['Date'] >= '2019-05-17') & (open_data['Date'] <= '2019-07-01')]\n",
    "test = test.set_index(keys='Date')\n",
    "\n",
    "test.head()"
   ]
  },
  {
   "cell_type": "markdown",
   "metadata": {},
   "source": [
    "From the previous analysis, a likely combination for the ARIMA model can be:\n",
    "- p = 2\n",
    "- d = 1\n",
    "- q = 2 "
   ]
  },
  {
   "cell_type": "markdown",
   "metadata": {},
   "source": [
    "### Training ARIMA model"
   ]
  },
  {
   "cell_type": "code",
   "execution_count": 41,
   "metadata": {},
   "outputs": [],
   "source": [
    "# declaring an ARIMA model object, with p=2, d=1, q=2\n",
    "train_arima = ARIMA(train, order=(2,1,2), freq='D')\n",
    "\n",
    "# fitting our training data to the model\n",
    "train_fit = train_arima.fit()"
   ]
  },
  {
   "cell_type": "markdown",
   "metadata": {},
   "source": [
    "### Extracting Forecast"
   ]
  },
  {
   "cell_type": "code",
   "execution_count": 42,
   "metadata": {},
   "outputs": [
    {
     "data": {
      "text/plain": [
       "array([2854.40744295, 2854.84976879, 2855.60327979, 2855.03269339,\n",
       "       2855.80943694, 2855.74714174, 2855.93133604, 2856.27713919,\n",
       "       2856.30829854, 2856.61333704, 2856.77183665, 2856.95302276,\n",
       "       2857.18568124, 2857.34759872, 2857.56309929, 2857.75477859,\n",
       "       2857.94536137, 2858.14977352, 2858.33897655, 2858.53824098,\n",
       "       2858.73404934, 2858.92849087, 2859.12631761, 2859.32100137,\n",
       "       2859.51748588, 2859.71357407, 2859.90916393, 2860.10553196,\n",
       "       2860.30127472, 2860.49732043, 2860.69335042, 2860.88923841,\n",
       "       2861.08529681, 2861.28123564, 2861.477221  , 2861.67321637,\n",
       "       2861.86917574, 2862.06517093, 2862.26114423, 2862.45712361,\n",
       "       2862.65310761, 2862.84908312, 2863.04506588])"
      ]
     },
     "execution_count": 42,
     "metadata": {},
     "output_type": "execute_result"
    }
   ],
   "source": [
    "# calling the forecast \n",
    "train_forecast = train_fit.forecast(len(test))\n",
    "\n",
    "# forecast returns 3 components - forecasted values, std error and confidence interval\n",
    "train_forecast[0]"
   ]
  },
  {
   "cell_type": "code",
   "execution_count": 43,
   "metadata": {},
   "outputs": [
    {
     "data": {
      "text/plain": [
       "<AxesSubplot:xlabel='Date'>"
      ]
     },
     "execution_count": 43,
     "metadata": {},
     "output_type": "execute_result"
    },
    {
     "data": {
      "image/png": "[encoded data removed]",
      "text/plain": [
       "<Figure size 1296x648 with 1 Axes>"
      ]
     },
     "metadata": {},
     "output_type": "display_data"
    }
   ],
   "source": [
    "# forecasted values into a dataframe\n",
    "forecasted = pd.DataFrame(train_forecast[0]).rename(columns={0: 'forecast'})\n",
    "\n",
    "# merge with test data to visualize\n",
    "merged = (\n",
    "    pd\n",
    "    .concat([test.reset_index(), forecasted], axis=1, ignore_index=True)\n",
    "    .rename(columns={0: 'Date', 1: 'Test Open', 2: 'Forecasted Open'})\n",
    "    .set_index('Date')\n",
    ")\n",
    "\n",
    "# sns.lineplot()\n",
    "sns.lineplot(data=merged)"
   ]
  },
  {
   "cell_type": "markdown",
   "metadata": {},
   "source": [
    "Forecasted values ended up being a straight line because the data does not have strong seasonality. On the bright side, this was a good practice for modelling with ARIMA."
   ]
  }
 ],
 "metadata": {
  "kernelspec": {
   "display_name": "Python 3.8.5 64-bit ('base': conda)",
   "language": "python",
   "name": "python385jvsc74a57bd06b1fddee6a4b505384ddeda5796694f4bbfade17e2d590b57803dc740f169cb4"
  },
  "language_info": {
   "codemirror_mode": {
    "name": "ipython",
    "version": 3
   },
   "file_extension": ".py",
   "mimetype": "text/x-python",
   "name": "python",
   "nbconvert_exporter": "python",
   "pygments_lexer": "ipython3",
   "version": "3.8.5"
  },
  "metadata": {
   "interpreter": {
    "hash": "6b1fddee6a4b505384ddeda5796694f4bbfade17e2d590b57803dc740f169cb4"
   }
  }
 },
 "nbformat": 4,
 "nbformat_minor": 4
}
