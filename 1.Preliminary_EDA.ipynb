{
 "cells": [
  {
   "cell_type": "markdown",
   "id": "ed6070ee-4b21-421d-b0ac-83714fa12032",
   "metadata": {},
   "source": [
    "## Forecasting Stock Prices with LSTM Model\n",
    "- the following LSTM Data Science project draws inspiration from the following literature review and uplevel's mini datascience project\n",
    "- https://journals.plos.org/plosone/article?id=10.1371/journal.pone.0227222\n",
    "- https://dataprojects.uplevel.work"
   ]
  },
  {
   "cell_type": "markdown",
   "id": "354ee017-f5e2-414c-a374-974801ff4549",
   "metadata": {},
   "source": [
    "### 1. Importing Necessary Libraries"
   ]
  },
  {
   "cell_type": "code",
   "execution_count": 1,
   "id": "88578665-6201-4b23-b18a-82457fafea2a",
   "metadata": {},
   "outputs": [],
   "source": [
    "import yfinance as yf\n",
    "import pandas as pd\n",
    "import seaborn as sns\n",
    "import matplotlib\n",
    "import matplotlib.pyplot as plt\n",
    "import missingno as msno\n",
    "%matplotlib inline"
   ]
  },
  {
   "cell_type": "markdown",
   "id": "8a0d3bfe-8400-4b98-9bd2-7c167523b118",
   "metadata": {},
   "source": [
    "### 2. Getting necessary finance data"
   ]
  },
  {
   "cell_type": "code",
   "execution_count": null,
   "id": "0ae8e329-5e60-4afd-8a92-eaa5a88552f8",
   "metadata": {},
   "outputs": [],
   "source": [
    "# getting s&p500 data\n",
    "snp500 = yf.download(tickers=['^GSPC'], start='2000-01-03', end='2019-07-01')"
   ]
  },
  {
   "cell_type": "code",
   "execution_count": null,
   "id": "498bc48b-1cd8-4625-a95f-199bbaf2cc53",
   "metadata": {},
   "outputs": [],
   "source": []
  },
  {
   "cell_type": "code",
   "execution_count": null,
   "id": "35201311-ace7-4208-9bd6-44f39762cd15",
   "metadata": {},
   "outputs": [],
   "source": []
  },
  {
   "cell_type": "code",
   "execution_count": null,
   "id": "e476cb5e-6f6d-455e-a75f-d67b0b54c4c3",
   "metadata": {},
   "outputs": [],
   "source": []
  },
  {
   "cell_type": "code",
   "execution_count": null,
   "id": "ad75f4fa-47b6-4427-aea9-775679f6c7bf",
   "metadata": {},
   "outputs": [],
   "source": []
  },
  {
   "cell_type": "code",
   "execution_count": null,
   "id": "d7351e32-d530-463e-996c-ba689a1b6b42",
   "metadata": {},
   "outputs": [],
   "source": []
  }
 ],
 "metadata": {
  "kernelspec": {
   "display_name": "Python 3",
   "language": "python",
   "name": "python3"
  },
  "language_info": {
   "codemirror_mode": {
    "name": "ipython",
    "version": 3
   },
   "file_extension": ".py",
   "mimetype": "text/x-python",
   "name": "python",
   "nbconvert_exporter": "python",
   "pygments_lexer": "ipython3",
   "version": "3.8.5"
  }
 },
 "nbformat": 4,
 "nbformat_minor": 5
}
