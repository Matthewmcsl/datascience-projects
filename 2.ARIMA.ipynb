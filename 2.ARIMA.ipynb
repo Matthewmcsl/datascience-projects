{
 "cells": [
  {
   "cell_type": "markdown",
   "metadata": {},
   "source": [
    "## Forecasting Stock Prices with LSTM Model (Long-Short Term Memory)\n",
    "- the following LSTM Data Science project draws inspiration from the following literature review and uplevel's mini datascience project\n",
    "- https://journals.plos.org/plosone/article?id=10.1371/journal.pone.0227222\n",
    "- https://dataprojects.uplevel.work"
   ]
  },
  {
   "cell_type": "markdown",
   "metadata": {},
   "source": [
    "### 1. Forecasting using ARIMA"
   ]
  },
  {
   "cell_type": "markdown",
   "metadata": {},
   "source": [
    "The traditional ARIMA model is composed of 3 parameters\n",
    "- AR component (Auto regressive process): predicting future values based on its own past values, regressing on itself.\n",
    "- I component (Integrated process)\n",
    "- MA component (Moving average process)\n",
    "\n",
    "ARIMA models three aspects of a time series\n",
    "- Seasonality: Seasonal patterns in the time series (e.g. increase influx of tourists during the christmas holidays)\n",
    "- Trend: Upward/downward movement of data with time over a large period of time (e.g. house value appreciation)\n",
    "- White noise: How much random variability is in the data (spikes and troughs at random intervals)\n",
    "\n",
    "Idea conditions for forecasting using ARIMA:\n",
    "- Time series is stationary - meaning without seasonality and trend"
   ]
  }
 ],
 "metadata": {
  "kernelspec": {
   "display_name": "Python 3.8.5 64-bit ('base': conda)",
   "language": "python",
   "name": "python385jvsc74a57bd06b1fddee6a4b505384ddeda5796694f4bbfade17e2d590b57803dc740f169cb4"
  },
  "language_info": {
   "codemirror_mode": {
    "name": "ipython",
    "version": 3
   },
   "file_extension": ".py",
   "mimetype": "text/x-python",
   "name": "python",
   "nbconvert_exporter": "python",
   "pygments_lexer": "ipython3",
   "version": "3.8.5"
  },
  "metadata": {
   "interpreter": {
    "hash": "6b1fddee6a4b505384ddeda5796694f4bbfade17e2d590b57803dc740f169cb4"
   }
  }
 },
 "nbformat": 4,
 "nbformat_minor": 4
}
